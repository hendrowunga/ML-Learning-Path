{
 "cells": [
  {
   "cell_type": "code",
   "execution_count": 36,
   "metadata": {},
   "outputs": [],
   "source": [
    "import pandas as pd\n",
    "import numpy as np\n",
    "from sklearn.preprocessing import LabelEncoder,StandardScaler\n",
    "from sklearn.model_selection import train_test_split\n",
    "from sklearn.svm import SVC\n",
    "from sklearn.metrics import accuracy_score, classification_report, confusion_matrix\n",
    "\n",
    "\n",
    "\n"
   ]
  },
  {
   "cell_type": "markdown",
   "metadata": {},
   "source": [
    "# Membaca Data"
   ]
  },
  {
   "cell_type": "code",
   "execution_count": 17,
   "metadata": {},
   "outputs": [],
   "source": [
    "csv_path=\"../Data/credircardinfo.csv\"\n",
    "df=pd.read_csv(csv_path)"
   ]
  },
  {
   "cell_type": "code",
   "execution_count": 18,
   "metadata": {},
   "outputs": [
    {
     "data": {
      "text/html": [
       "<div>\n",
       "<style scoped>\n",
       "    .dataframe tbody tr th:only-of-type {\n",
       "        vertical-align: middle;\n",
       "    }\n",
       "\n",
       "    .dataframe tbody tr th {\n",
       "        vertical-align: top;\n",
       "    }\n",
       "\n",
       "    .dataframe thead th {\n",
       "        text-align: right;\n",
       "    }\n",
       "</style>\n",
       "<table border=\"1\" class=\"dataframe\">\n",
       "  <thead>\n",
       "    <tr style=\"text-align: right;\">\n",
       "      <th></th>\n",
       "      <th>ID</th>\n",
       "      <th>Age</th>\n",
       "      <th>Gender</th>\n",
       "      <th>Salary</th>\n",
       "      <th>Job</th>\n",
       "      <th>Married</th>\n",
       "      <th>Num_children</th>\n",
       "      <th>type_credit</th>\n",
       "    </tr>\n",
       "  </thead>\n",
       "  <tbody>\n",
       "    <tr>\n",
       "      <th>0</th>\n",
       "      <td>1</td>\n",
       "      <td>25</td>\n",
       "      <td>M</td>\n",
       "      <td>350</td>\n",
       "      <td>Y</td>\n",
       "      <td>N</td>\n",
       "      <td>0</td>\n",
       "      <td>0</td>\n",
       "    </tr>\n",
       "    <tr>\n",
       "      <th>1</th>\n",
       "      <td>2</td>\n",
       "      <td>45</td>\n",
       "      <td>M</td>\n",
       "      <td>1300</td>\n",
       "      <td>Y</td>\n",
       "      <td>Y</td>\n",
       "      <td>2</td>\n",
       "      <td>2</td>\n",
       "    </tr>\n",
       "    <tr>\n",
       "      <th>2</th>\n",
       "      <td>3</td>\n",
       "      <td>35</td>\n",
       "      <td>F</td>\n",
       "      <td>1000</td>\n",
       "      <td>Y</td>\n",
       "      <td>Y</td>\n",
       "      <td>2</td>\n",
       "      <td>1</td>\n",
       "    </tr>\n",
       "    <tr>\n",
       "      <th>3</th>\n",
       "      <td>4</td>\n",
       "      <td>27</td>\n",
       "      <td>M</td>\n",
       "      <td>550</td>\n",
       "      <td>Y</td>\n",
       "      <td>N</td>\n",
       "      <td>0</td>\n",
       "      <td>1</td>\n",
       "    </tr>\n",
       "    <tr>\n",
       "      <th>4</th>\n",
       "      <td>5</td>\n",
       "      <td>28</td>\n",
       "      <td>F</td>\n",
       "      <td>500</td>\n",
       "      <td>Y</td>\n",
       "      <td>Y</td>\n",
       "      <td>0</td>\n",
       "      <td>0</td>\n",
       "    </tr>\n",
       "  </tbody>\n",
       "</table>\n",
       "</div>"
      ],
      "text/plain": [
       "   ID   Age  Gender  Salary  Job Married  Num_children  type_credit\n",
       "0    1    25      M      350   Y       N             0            0\n",
       "1    2    45      M     1300   Y       Y             2            2\n",
       "2    3    35      F     1000   Y       Y             2            1\n",
       "3    4    27      M      550   Y       N             0            1\n",
       "4    5    28      F      500   Y       Y             0            0"
      ]
     },
     "execution_count": 18,
     "metadata": {},
     "output_type": "execute_result"
    }
   ],
   "source": [
    "df.head()"
   ]
  },
  {
   "cell_type": "code",
   "execution_count": 19,
   "metadata": {},
   "outputs": [
    {
     "name": "stdout",
     "output_type": "stream",
     "text": [
      "<class 'pandas.core.frame.DataFrame'>\n",
      "RangeIndex: 95 entries, 0 to 94\n",
      "Data columns (total 8 columns):\n",
      " #   Column        Non-Null Count  Dtype \n",
      "---  ------        --------------  ----- \n",
      " 0   ID            95 non-null     int64 \n",
      " 1   Age           95 non-null     int64 \n",
      " 2   Gender        95 non-null     object\n",
      " 3   Salary        95 non-null     int64 \n",
      " 4   Job           95 non-null     object\n",
      " 5   Married       95 non-null     object\n",
      " 6   Num_children  95 non-null     int64 \n",
      " 7   type_credit   95 non-null     int64 \n",
      "dtypes: int64(5), object(3)\n",
      "memory usage: 6.1+ KB\n"
     ]
    }
   ],
   "source": [
    "df.info()"
   ]
  },
  {
   "cell_type": "code",
   "execution_count": 20,
   "metadata": {},
   "outputs": [
    {
     "data": {
      "text/html": [
       "<div>\n",
       "<style scoped>\n",
       "    .dataframe tbody tr th:only-of-type {\n",
       "        vertical-align: middle;\n",
       "    }\n",
       "\n",
       "    .dataframe tbody tr th {\n",
       "        vertical-align: top;\n",
       "    }\n",
       "\n",
       "    .dataframe thead th {\n",
       "        text-align: right;\n",
       "    }\n",
       "</style>\n",
       "<table border=\"1\" class=\"dataframe\">\n",
       "  <thead>\n",
       "    <tr style=\"text-align: right;\">\n",
       "      <th></th>\n",
       "      <th>ID</th>\n",
       "      <th>Age</th>\n",
       "      <th>Salary</th>\n",
       "      <th>Num_children</th>\n",
       "      <th>type_credit</th>\n",
       "    </tr>\n",
       "  </thead>\n",
       "  <tbody>\n",
       "    <tr>\n",
       "      <th>count</th>\n",
       "      <td>95.000000</td>\n",
       "      <td>95.000000</td>\n",
       "      <td>95.000000</td>\n",
       "      <td>95.000000</td>\n",
       "      <td>95.000000</td>\n",
       "    </tr>\n",
       "    <tr>\n",
       "      <th>mean</th>\n",
       "      <td>48.000000</td>\n",
       "      <td>41.821053</td>\n",
       "      <td>1170.736842</td>\n",
       "      <td>1.726316</td>\n",
       "      <td>0.926316</td>\n",
       "    </tr>\n",
       "    <tr>\n",
       "      <th>std</th>\n",
       "      <td>27.568098</td>\n",
       "      <td>21.492195</td>\n",
       "      <td>1008.575193</td>\n",
       "      <td>1.627177</td>\n",
       "      <td>0.775175</td>\n",
       "    </tr>\n",
       "    <tr>\n",
       "      <th>min</th>\n",
       "      <td>1.000000</td>\n",
       "      <td>18.000000</td>\n",
       "      <td>0.000000</td>\n",
       "      <td>0.000000</td>\n",
       "      <td>0.000000</td>\n",
       "    </tr>\n",
       "    <tr>\n",
       "      <th>25%</th>\n",
       "      <td>24.500000</td>\n",
       "      <td>28.500000</td>\n",
       "      <td>550.000000</td>\n",
       "      <td>0.000000</td>\n",
       "      <td>0.000000</td>\n",
       "    </tr>\n",
       "    <tr>\n",
       "      <th>50%</th>\n",
       "      <td>48.000000</td>\n",
       "      <td>35.000000</td>\n",
       "      <td>900.000000</td>\n",
       "      <td>2.000000</td>\n",
       "      <td>1.000000</td>\n",
       "    </tr>\n",
       "    <tr>\n",
       "      <th>75%</th>\n",
       "      <td>71.500000</td>\n",
       "      <td>45.000000</td>\n",
       "      <td>1625.000000</td>\n",
       "      <td>3.000000</td>\n",
       "      <td>2.000000</td>\n",
       "    </tr>\n",
       "    <tr>\n",
       "      <th>max</th>\n",
       "      <td>95.000000</td>\n",
       "      <td>120.000000</td>\n",
       "      <td>5000.000000</td>\n",
       "      <td>6.000000</td>\n",
       "      <td>2.000000</td>\n",
       "    </tr>\n",
       "  </tbody>\n",
       "</table>\n",
       "</div>"
      ],
      "text/plain": [
       "             ID         Age       Salary   Num_children  type_credit\n",
       "count  95.000000   95.000000    95.000000     95.000000    95.000000\n",
       "mean   48.000000   41.821053  1170.736842      1.726316     0.926316\n",
       "std    27.568098   21.492195  1008.575193      1.627177     0.775175\n",
       "min     1.000000   18.000000     0.000000      0.000000     0.000000\n",
       "25%    24.500000   28.500000   550.000000      0.000000     0.000000\n",
       "50%    48.000000   35.000000   900.000000      2.000000     1.000000\n",
       "75%    71.500000   45.000000  1625.000000      3.000000     2.000000\n",
       "max    95.000000  120.000000  5000.000000      6.000000     2.000000"
      ]
     },
     "execution_count": 20,
     "metadata": {},
     "output_type": "execute_result"
    }
   ],
   "source": [
    "df.describe()"
   ]
  },
  {
   "cell_type": "markdown",
   "metadata": {},
   "source": [
    "# PreProssesing"
   ]
  },
  {
   "cell_type": "code",
   "execution_count": 38,
   "metadata": {},
   "outputs": [
    {
     "data": {
      "text/plain": [
       "ID              0\n",
       "Age             0\n",
       "Gender          0\n",
       "Salary          0\n",
       "Job             0\n",
       "Married         0\n",
       "Num_children    0\n",
       "type_credit     0\n",
       "dtype: int64"
      ]
     },
     "execution_count": 38,
     "metadata": {},
     "output_type": "execute_result"
    }
   ],
   "source": [
    "df.isnull().sum()"
   ]
  },
  {
   "cell_type": "markdown",
   "metadata": {},
   "source": [
    "# Encoding Fitur Kategorikal"
   ]
  },
  {
   "cell_type": "code",
   "execution_count": 25,
   "metadata": {},
   "outputs": [],
   "source": [
    "\n",
    "# Encode kolom Gender\n",
    "le_gender = LabelEncoder()\n",
    "df['Gender'] = le_gender.fit_transform(df['Gender'])\n",
    "\n",
    "# Encode kolom Married\n",
    "le_married = LabelEncoder()\n",
    "df['Married'] = le_married.fit_transform(df['Married'])\n",
    "# Encode kolom Job\n",
    "le_married = LabelEncoder()\n",
    "df['Job'] = le_married.fit_transform(df['Job'])\n"
   ]
  },
  {
   "cell_type": "markdown",
   "metadata": {},
   "source": [
    "# Memisahkan Fitur dan Label"
   ]
  },
  {
   "cell_type": "code",
   "execution_count": 26,
   "metadata": {},
   "outputs": [],
   "source": [
    "X = df.drop(columns=['type_credit'])  # Fitur\n",
    "y = df['type_credit']  # Label\n"
   ]
  },
  {
   "cell_type": "markdown",
   "metadata": {},
   "source": [
    "# Membagi Data Menjadi Training dan Testing"
   ]
  },
  {
   "cell_type": "code",
   "execution_count": 30,
   "metadata": {},
   "outputs": [],
   "source": [
    "X_train, X_test, y_train, y_test = train_test_split(X, y, test_size=0.2, random_state=42)"
   ]
  },
  {
   "cell_type": "markdown",
   "metadata": {},
   "source": [
    "# Normalisasi\n",
    "Normalisasi atau penskalaan fitur untuk meningkatkan performa model."
   ]
  },
  {
   "cell_type": "code",
   "execution_count": 32,
   "metadata": {},
   "outputs": [],
   "source": [
    "scaler = StandardScaler()\n",
    "X_train = scaler.fit_transform(X_train)\n",
    "X_test = scaler.transform(X_test)"
   ]
  },
  {
   "cell_type": "markdown",
   "metadata": {},
   "source": [
    "# Membuat Model,Memprediksi,dan Menampilkan hasil Evaluasi berbagai Kernel\n"
   ]
  },
  {
   "cell_type": "code",
   "execution_count": 37,
   "metadata": {},
   "outputs": [
    {
     "name": "stdout",
     "output_type": "stream",
     "text": [
      "\n",
      "Kernel: linear\n",
      "Akurasi: 0.8421052631578947\n",
      "Laporan Klasifikasi:\n",
      "              precision    recall  f1-score   support\n",
      "\n",
      "           0       1.00      0.67      0.80         6\n",
      "           1       0.70      1.00      0.82         7\n",
      "           2       1.00      0.83      0.91         6\n",
      "\n",
      "    accuracy                           0.84        19\n",
      "   macro avg       0.90      0.83      0.84        19\n",
      "weighted avg       0.89      0.84      0.84        19\n",
      "\n",
      "Confusion Matrix:\n",
      "[[4 2 0]\n",
      " [0 7 0]\n",
      " [0 1 5]]\n",
      "\n",
      "Kernel: poly\n",
      "Akurasi: 0.631578947368421\n",
      "Laporan Klasifikasi:\n",
      "              precision    recall  f1-score   support\n",
      "\n",
      "           0       1.00      0.50      0.67         6\n",
      "           1       0.50      1.00      0.67         7\n",
      "           2       1.00      0.33      0.50         6\n",
      "\n",
      "    accuracy                           0.63        19\n",
      "   macro avg       0.83      0.61      0.61        19\n",
      "weighted avg       0.82      0.63      0.61        19\n",
      "\n",
      "Confusion Matrix:\n",
      "[[3 3 0]\n",
      " [0 7 0]\n",
      " [0 4 2]]\n",
      "\n",
      "Kernel: rbf\n",
      "Akurasi: 0.8421052631578947\n",
      "Laporan Klasifikasi:\n",
      "              precision    recall  f1-score   support\n",
      "\n",
      "           0       1.00      0.67      0.80         6\n",
      "           1       0.70      1.00      0.82         7\n",
      "           2       1.00      0.83      0.91         6\n",
      "\n",
      "    accuracy                           0.84        19\n",
      "   macro avg       0.90      0.83      0.84        19\n",
      "weighted avg       0.89      0.84      0.84        19\n",
      "\n",
      "Confusion Matrix:\n",
      "[[4 2 0]\n",
      " [0 7 0]\n",
      " [0 1 5]]\n",
      "\n",
      "Kernel: sigmoid\n",
      "Akurasi: 0.7894736842105263\n",
      "Laporan Klasifikasi:\n",
      "              precision    recall  f1-score   support\n",
      "\n",
      "           0       1.00      0.67      0.80         6\n",
      "           1       0.64      1.00      0.78         7\n",
      "           2       1.00      0.67      0.80         6\n",
      "\n",
      "    accuracy                           0.79        19\n",
      "   macro avg       0.88      0.78      0.79        19\n",
      "weighted avg       0.87      0.79      0.79        19\n",
      "\n",
      "Confusion Matrix:\n",
      "[[4 2 0]\n",
      " [0 7 0]\n",
      " [0 2 4]]\n"
     ]
    }
   ],
   "source": [
    "# Menggunakan berbagai kernel\n",
    "kernels = ['linear', 'poly', 'rbf', 'sigmoid']\n",
    "\n",
    "for kernel in kernels:\n",
    "    print(f'\\nKernel: {kernel}')\n",
    "    \n",
    "    # Membuat model SVM dengan kernel yang ditentukan\n",
    "    svm_model = SVC(kernel=kernel)\n",
    "    svm_model.fit(X_train, y_train)\n",
    "    \n",
    "    # Memprediksi data pengujian\n",
    "    y_pred = svm_model.predict(X_test)\n",
    "    \n",
    "    # Evaluasi model\n",
    "    accuracy = accuracy_score(y_test, y_pred)\n",
    "    report = classification_report(y_test, y_pred)\n",
    "    conf_matrix = confusion_matrix(y_test, y_pred)\n",
    "    \n",
    "    # Menampilkan hasil evaluasi\n",
    "    print(f'Akurasi: {accuracy}')\n",
    "    print('Laporan Klasifikasi:')\n",
    "    print(report)\n",
    "    print('Confusion Matrix:')\n",
    "    print(conf_matrix)"
   ]
  }
 ],
 "metadata": {
  "kernelspec": {
   "display_name": "Python 3",
   "language": "python",
   "name": "python3"
  },
  "language_info": {
   "codemirror_mode": {
    "name": "ipython",
    "version": 3
   },
   "file_extension": ".py",
   "mimetype": "text/x-python",
   "name": "python",
   "nbconvert_exporter": "python",
   "pygments_lexer": "ipython3",
   "version": "3.10.9"
  }
 },
 "nbformat": 4,
 "nbformat_minor": 2
}
