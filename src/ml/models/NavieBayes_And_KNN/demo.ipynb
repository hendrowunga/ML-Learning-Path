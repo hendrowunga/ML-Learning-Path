{
 "cells": [
  {
   "cell_type": "markdown",
   "metadata": {},
   "source": [
    "Kode ini mengimpor berbagai pustaka dan modul yang umum digunakan dalam analisis data dan pembelajaran mesin.\n",
    "\n",
    "1. `numpy` digunakan untuk komputasi numerik yang efisien.\n",
    "2. `pandas` digunakan untuk manipulasi dan analisis data dalam bentuk tabel (DataFrame).\n",
    "3. `matplotlib.pyplot` digunakan untuk membuat visualisasi data.\n",
    "4. `seaborn` digunakan untuk membuat visualisasi statistik yang lebih menarik dan informatif.\n",
    "5. `%matplotlib inline` adalah magic command di Jupyter Notebook untuk menampilkan plot langsung dalam notebook.\n",
    "6. `classification_report`, `confusion_matrix`, `accuracy_score`, `f1_score`, `recall_score`, dan `precision_score` dari `sklearn.metrics` digunakan untuk mengevaluasi kinerja model klasifikasi.\n"
   ]
  },
  {
   "cell_type": "code",
   "execution_count": 136,
   "metadata": {},
   "outputs": [],
   "source": [
    "import numpy as np\n",
    "import pandas as pd\n",
    "import matplotlib.pyplot as plt\n",
    "import seaborn as sns\n",
    "%matplotlib inline\n",
    "from sklearn.metrics import classification_report,confusion_matrix, accuracy_score, f1_score, recall_score, precision_score"
   ]
  },
  {
   "cell_type": "markdown",
   "metadata": {},
   "source": [
    "## Membaca Data\n",
    "1. `csv_path=\"../Data/data.csv\"`: Menentukan jalur relatif ke file CSV yang akan dibaca.\n",
    "2. `df=pd.read_csv(csv_path,sep=\";\")`: Menggunakan `pandas` untuk membaca file CSV yang ditentukan oleh `csv_path` dan memuatnya ke dalam DataFrame `df`. File CSV tersebut menggunakan tanda titik koma (`;`) sebagai pemisah antar kolom.\n",
    "\n",
    "Kode ini berguna untuk memuat dan menampilkan data dari file CSV sehingga dapat dianalisis lebih lanjut.\n"
   ]
  },
  {
   "cell_type": "code",
   "execution_count": 184,
   "metadata": {},
   "outputs": [],
   "source": [
    "csv_path=\"../Data/data.csv\"\n",
    "df=pd.read_csv(csv_path,sep=\";\")"
   ]
  },
  {
   "cell_type": "markdown",
   "metadata": {},
   "source": [
    "Fungsi `head()` dari dataframe (`df`) digunakan untuk menampilkan lima baris pertama dari data. Ini membantu untuk mendapatkan gambaran cepat tentang struktur dan konten dari dataframe.\n"
   ]
  },
  {
   "cell_type": "code",
   "execution_count": 185,
   "metadata": {},
   "outputs": [
    {
     "data": {
      "text/html": [
       "<div>\n",
       "<style scoped>\n",
       "    .dataframe tbody tr th:only-of-type {\n",
       "        vertical-align: middle;\n",
       "    }\n",
       "\n",
       "    .dataframe tbody tr th {\n",
       "        vertical-align: top;\n",
       "    }\n",
       "\n",
       "    .dataframe thead th {\n",
       "        text-align: right;\n",
       "    }\n",
       "</style>\n",
       "<table border=\"1\" class=\"dataframe\">\n",
       "  <thead>\n",
       "    <tr style=\"text-align: right;\">\n",
       "      <th></th>\n",
       "      <th>Marital status</th>\n",
       "      <th>Application mode</th>\n",
       "      <th>Application order</th>\n",
       "      <th>Course</th>\n",
       "      <th>Daytime/evening attendance\\t</th>\n",
       "      <th>Previous qualification</th>\n",
       "      <th>Previous qualification (grade)</th>\n",
       "      <th>Nacionality</th>\n",
       "      <th>Mother's qualification</th>\n",
       "      <th>Father's qualification</th>\n",
       "      <th>...</th>\n",
       "      <th>Curricular units 2nd sem (credited)</th>\n",
       "      <th>Curricular units 2nd sem (enrolled)</th>\n",
       "      <th>Curricular units 2nd sem (evaluations)</th>\n",
       "      <th>Curricular units 2nd sem (approved)</th>\n",
       "      <th>Curricular units 2nd sem (grade)</th>\n",
       "      <th>Curricular units 2nd sem (without evaluations)</th>\n",
       "      <th>Unemployment rate</th>\n",
       "      <th>Inflation rate</th>\n",
       "      <th>GDP</th>\n",
       "      <th>Target</th>\n",
       "    </tr>\n",
       "  </thead>\n",
       "  <tbody>\n",
       "    <tr>\n",
       "      <th>0</th>\n",
       "      <td>1</td>\n",
       "      <td>17</td>\n",
       "      <td>5</td>\n",
       "      <td>171</td>\n",
       "      <td>1</td>\n",
       "      <td>1</td>\n",
       "      <td>122.0</td>\n",
       "      <td>1</td>\n",
       "      <td>19</td>\n",
       "      <td>12</td>\n",
       "      <td>...</td>\n",
       "      <td>0</td>\n",
       "      <td>0</td>\n",
       "      <td>0</td>\n",
       "      <td>0</td>\n",
       "      <td>0.000000</td>\n",
       "      <td>0</td>\n",
       "      <td>10.8</td>\n",
       "      <td>1.4</td>\n",
       "      <td>1.74</td>\n",
       "      <td>Dropout</td>\n",
       "    </tr>\n",
       "    <tr>\n",
       "      <th>1</th>\n",
       "      <td>1</td>\n",
       "      <td>15</td>\n",
       "      <td>1</td>\n",
       "      <td>9254</td>\n",
       "      <td>1</td>\n",
       "      <td>1</td>\n",
       "      <td>160.0</td>\n",
       "      <td>1</td>\n",
       "      <td>1</td>\n",
       "      <td>3</td>\n",
       "      <td>...</td>\n",
       "      <td>0</td>\n",
       "      <td>6</td>\n",
       "      <td>6</td>\n",
       "      <td>6</td>\n",
       "      <td>13.666667</td>\n",
       "      <td>0</td>\n",
       "      <td>13.9</td>\n",
       "      <td>-0.3</td>\n",
       "      <td>0.79</td>\n",
       "      <td>Graduate</td>\n",
       "    </tr>\n",
       "    <tr>\n",
       "      <th>2</th>\n",
       "      <td>1</td>\n",
       "      <td>1</td>\n",
       "      <td>5</td>\n",
       "      <td>9070</td>\n",
       "      <td>1</td>\n",
       "      <td>1</td>\n",
       "      <td>122.0</td>\n",
       "      <td>1</td>\n",
       "      <td>37</td>\n",
       "      <td>37</td>\n",
       "      <td>...</td>\n",
       "      <td>0</td>\n",
       "      <td>6</td>\n",
       "      <td>0</td>\n",
       "      <td>0</td>\n",
       "      <td>0.000000</td>\n",
       "      <td>0</td>\n",
       "      <td>10.8</td>\n",
       "      <td>1.4</td>\n",
       "      <td>1.74</td>\n",
       "      <td>Dropout</td>\n",
       "    </tr>\n",
       "    <tr>\n",
       "      <th>3</th>\n",
       "      <td>1</td>\n",
       "      <td>17</td>\n",
       "      <td>2</td>\n",
       "      <td>9773</td>\n",
       "      <td>1</td>\n",
       "      <td>1</td>\n",
       "      <td>122.0</td>\n",
       "      <td>1</td>\n",
       "      <td>38</td>\n",
       "      <td>37</td>\n",
       "      <td>...</td>\n",
       "      <td>0</td>\n",
       "      <td>6</td>\n",
       "      <td>10</td>\n",
       "      <td>5</td>\n",
       "      <td>12.400000</td>\n",
       "      <td>0</td>\n",
       "      <td>9.4</td>\n",
       "      <td>-0.8</td>\n",
       "      <td>-3.12</td>\n",
       "      <td>Graduate</td>\n",
       "    </tr>\n",
       "    <tr>\n",
       "      <th>4</th>\n",
       "      <td>2</td>\n",
       "      <td>39</td>\n",
       "      <td>1</td>\n",
       "      <td>8014</td>\n",
       "      <td>0</td>\n",
       "      <td>1</td>\n",
       "      <td>100.0</td>\n",
       "      <td>1</td>\n",
       "      <td>37</td>\n",
       "      <td>38</td>\n",
       "      <td>...</td>\n",
       "      <td>0</td>\n",
       "      <td>6</td>\n",
       "      <td>6</td>\n",
       "      <td>6</td>\n",
       "      <td>13.000000</td>\n",
       "      <td>0</td>\n",
       "      <td>13.9</td>\n",
       "      <td>-0.3</td>\n",
       "      <td>0.79</td>\n",
       "      <td>Graduate</td>\n",
       "    </tr>\n",
       "  </tbody>\n",
       "</table>\n",
       "<p>5 rows × 37 columns</p>\n",
       "</div>"
      ],
      "text/plain": [
       "   Marital status  Application mode  Application order  Course  \\\n",
       "0               1                17                  5     171   \n",
       "1               1                15                  1    9254   \n",
       "2               1                 1                  5    9070   \n",
       "3               1                17                  2    9773   \n",
       "4               2                39                  1    8014   \n",
       "\n",
       "   Daytime/evening attendance\\t  Previous qualification  \\\n",
       "0                             1                       1   \n",
       "1                             1                       1   \n",
       "2                             1                       1   \n",
       "3                             1                       1   \n",
       "4                             0                       1   \n",
       "\n",
       "   Previous qualification (grade)  Nacionality  Mother's qualification  \\\n",
       "0                           122.0            1                      19   \n",
       "1                           160.0            1                       1   \n",
       "2                           122.0            1                      37   \n",
       "3                           122.0            1                      38   \n",
       "4                           100.0            1                      37   \n",
       "\n",
       "   Father's qualification  ...  Curricular units 2nd sem (credited)  \\\n",
       "0                      12  ...                                    0   \n",
       "1                       3  ...                                    0   \n",
       "2                      37  ...                                    0   \n",
       "3                      37  ...                                    0   \n",
       "4                      38  ...                                    0   \n",
       "\n",
       "   Curricular units 2nd sem (enrolled)  \\\n",
       "0                                    0   \n",
       "1                                    6   \n",
       "2                                    6   \n",
       "3                                    6   \n",
       "4                                    6   \n",
       "\n",
       "   Curricular units 2nd sem (evaluations)  \\\n",
       "0                                       0   \n",
       "1                                       6   \n",
       "2                                       0   \n",
       "3                                      10   \n",
       "4                                       6   \n",
       "\n",
       "   Curricular units 2nd sem (approved)  Curricular units 2nd sem (grade)  \\\n",
       "0                                    0                          0.000000   \n",
       "1                                    6                         13.666667   \n",
       "2                                    0                          0.000000   \n",
       "3                                    5                         12.400000   \n",
       "4                                    6                         13.000000   \n",
       "\n",
       "   Curricular units 2nd sem (without evaluations)  Unemployment rate  \\\n",
       "0                                               0               10.8   \n",
       "1                                               0               13.9   \n",
       "2                                               0               10.8   \n",
       "3                                               0                9.4   \n",
       "4                                               0               13.9   \n",
       "\n",
       "   Inflation rate   GDP    Target  \n",
       "0             1.4  1.74   Dropout  \n",
       "1            -0.3  0.79  Graduate  \n",
       "2             1.4  1.74   Dropout  \n",
       "3            -0.8 -3.12  Graduate  \n",
       "4            -0.3  0.79  Graduate  \n",
       "\n",
       "[5 rows x 37 columns]"
      ]
     },
     "execution_count": 185,
     "metadata": {},
     "output_type": "execute_result"
    }
   ],
   "source": [
    "df.head()"
   ]
  },
  {
   "cell_type": "markdown",
   "metadata": {},
   "source": [
    "Fungsi `df.info()` digunakan untuk memberikan informasi singkat tentang dataframe `df`.\n",
    "\n",
    "Outputnya mencakup:\n",
    "- Jumlah total baris dan kolom dalam dataframe.\n",
    "- Daftar nama kolom beserta tipe datanya.\n",
    "- Jumlah nilai non-null (tidak kosong) dalam setiap kolom.\n",
    "- Penggunaan memori yang diperkirakan oleh dataframe.\n",
    "\n",
    "Ini membantu dalam pemahaman awal tentang struktur dan isi dari dataframe tersebut.\n"
   ]
  },
  {
   "cell_type": "code",
   "execution_count": 138,
   "metadata": {},
   "outputs": [
    {
     "name": "stdout",
     "output_type": "stream",
     "text": [
      "<class 'pandas.core.frame.DataFrame'>\n",
      "RangeIndex: 4424 entries, 0 to 4423\n",
      "Data columns (total 37 columns):\n",
      " #   Column                                          Non-Null Count  Dtype  \n",
      "---  ------                                          --------------  -----  \n",
      " 0   Marital status                                  4424 non-null   int64  \n",
      " 1   Application mode                                4424 non-null   int64  \n",
      " 2   Application order                               4424 non-null   int64  \n",
      " 3   Course                                          4424 non-null   int64  \n",
      " 4   Daytime/evening attendance\t                     4424 non-null   int64  \n",
      " 5   Previous qualification                          4424 non-null   int64  \n",
      " 6   Previous qualification (grade)                  4424 non-null   float64\n",
      " 7   Nacionality                                     4424 non-null   int64  \n",
      " 8   Mother's qualification                          4424 non-null   int64  \n",
      " 9   Father's qualification                          4424 non-null   int64  \n",
      " 10  Mother's occupation                             4424 non-null   int64  \n",
      " 11  Father's occupation                             4424 non-null   int64  \n",
      " 12  Admission grade                                 4424 non-null   float64\n",
      " 13  Displaced                                       4424 non-null   int64  \n",
      " 14  Educational special needs                       4424 non-null   int64  \n",
      " 15  Debtor                                          4424 non-null   int64  \n",
      " 16  Tuition fees up to date                         4424 non-null   int64  \n",
      " 17  Gender                                          4424 non-null   int64  \n",
      " 18  Scholarship holder                              4424 non-null   int64  \n",
      " 19  Age at enrollment                               4424 non-null   int64  \n",
      " 20  International                                   4424 non-null   int64  \n",
      " 21  Curricular units 1st sem (credited)             4424 non-null   int64  \n",
      " 22  Curricular units 1st sem (enrolled)             4424 non-null   int64  \n",
      " 23  Curricular units 1st sem (evaluations)          4424 non-null   int64  \n",
      " 24  Curricular units 1st sem (approved)             4424 non-null   int64  \n",
      " 25  Curricular units 1st sem (grade)                4424 non-null   float64\n",
      " 26  Curricular units 1st sem (without evaluations)  4424 non-null   int64  \n",
      " 27  Curricular units 2nd sem (credited)             4424 non-null   int64  \n",
      " 28  Curricular units 2nd sem (enrolled)             4424 non-null   int64  \n",
      " 29  Curricular units 2nd sem (evaluations)          4424 non-null   int64  \n",
      " 30  Curricular units 2nd sem (approved)             4424 non-null   int64  \n",
      " 31  Curricular units 2nd sem (grade)                4424 non-null   float64\n",
      " 32  Curricular units 2nd sem (without evaluations)  4424 non-null   int64  \n",
      " 33  Unemployment rate                               4424 non-null   float64\n",
      " 34  Inflation rate                                  4424 non-null   float64\n",
      " 35  GDP                                             4424 non-null   float64\n",
      " 36  Target                                          4424 non-null   object \n",
      "dtypes: float64(7), int64(29), object(1)\n",
      "memory usage: 1.2+ MB\n"
     ]
    }
   ],
   "source": [
    "df.info()"
   ]
  },
  {
   "cell_type": "markdown",
   "metadata": {},
   "source": [
    "Fungsi `df.isnull().sum()` digunakan untuk mengidentifikasi dan menghitung jumlah nilai yang hilang (null) di setiap kolom dalam DataFrame `df`. \n",
    "\n",
    "- `df.isnull()` mengembalikan DataFrame dengan nilai boolean yang menunjukkan apakah nilai di setiap posisi adalah null (True) atau tidak (False).\n",
    "- `sum()` kemudian menjumlahkan nilai boolean True untuk setiap kolom, memberikan total nilai null di setiap kolom tersebut.\n",
    "\n",
    "Ini berguna untuk memahami sejauh mana data yang hilang ada dalam dataset sebelum melakukan analisis atau pemrosesan lebih lanjut.\n"
   ]
  },
  {
   "cell_type": "code",
   "execution_count": 139,
   "metadata": {},
   "outputs": [
    {
     "data": {
      "text/plain": [
       "Marital status                                    0\n",
       "Application mode                                  0\n",
       "Application order                                 0\n",
       "Course                                            0\n",
       "Daytime/evening attendance\\t                      0\n",
       "Previous qualification                            0\n",
       "Previous qualification (grade)                    0\n",
       "Nacionality                                       0\n",
       "Mother's qualification                            0\n",
       "Father's qualification                            0\n",
       "Mother's occupation                               0\n",
       "Father's occupation                               0\n",
       "Admission grade                                   0\n",
       "Displaced                                         0\n",
       "Educational special needs                         0\n",
       "Debtor                                            0\n",
       "Tuition fees up to date                           0\n",
       "Gender                                            0\n",
       "Scholarship holder                                0\n",
       "Age at enrollment                                 0\n",
       "International                                     0\n",
       "Curricular units 1st sem (credited)               0\n",
       "Curricular units 1st sem (enrolled)               0\n",
       "Curricular units 1st sem (evaluations)            0\n",
       "Curricular units 1st sem (approved)               0\n",
       "Curricular units 1st sem (grade)                  0\n",
       "Curricular units 1st sem (without evaluations)    0\n",
       "Curricular units 2nd sem (credited)               0\n",
       "Curricular units 2nd sem (enrolled)               0\n",
       "Curricular units 2nd sem (evaluations)            0\n",
       "Curricular units 2nd sem (approved)               0\n",
       "Curricular units 2nd sem (grade)                  0\n",
       "Curricular units 2nd sem (without evaluations)    0\n",
       "Unemployment rate                                 0\n",
       "Inflation rate                                    0\n",
       "GDP                                               0\n",
       "Target                                            0\n",
       "dtype: int64"
      ]
     },
     "execution_count": 139,
     "metadata": {},
     "output_type": "execute_result"
    }
   ],
   "source": [
    "df.isnull().sum()"
   ]
  },
  {
   "cell_type": "markdown",
   "metadata": {},
   "source": [
    "Metode `df.describe().transpose()` pada DataFrame `df` dari pandas digunakan untuk menghasilkan ringkasan statistik dari data numerik yang ada di dalam DataFrame. Berikut adalah penjelasan singkat tentang penggunaannya:\n",
    "\n",
    "- `df.describe()` menghitung statistik deskriptif dasar untuk setiap kolom numerik di dalam DataFrame, seperti jumlah data (`count`), nilai rata-rata (`mean`), standar deviasi (`std`), nilai minimum (`min`), nilai maksimum (`max`), serta persentil (25%, 50%, dan 75%).\n",
    "- `transpose()` atau `.T` digunakan untuk menukar baris dan kolom dari output `describe()`, sehingga hasil statistik tersebut disajikan dalam format yang lebih mudah dibaca dan dibandingkan antar kolom.\n",
    "\n"
   ]
  },
  {
   "cell_type": "code",
   "execution_count": 140,
   "metadata": {},
   "outputs": [
    {
     "data": {
      "text/html": [
       "<div>\n",
       "<style scoped>\n",
       "    .dataframe tbody tr th:only-of-type {\n",
       "        vertical-align: middle;\n",
       "    }\n",
       "\n",
       "    .dataframe tbody tr th {\n",
       "        vertical-align: top;\n",
       "    }\n",
       "\n",
       "    .dataframe thead th {\n",
       "        text-align: right;\n",
       "    }\n",
       "</style>\n",
       "<table border=\"1\" class=\"dataframe\">\n",
       "  <thead>\n",
       "    <tr style=\"text-align: right;\">\n",
       "      <th></th>\n",
       "      <th>count</th>\n",
       "      <th>mean</th>\n",
       "      <th>std</th>\n",
       "      <th>min</th>\n",
       "      <th>25%</th>\n",
       "      <th>50%</th>\n",
       "      <th>75%</th>\n",
       "      <th>max</th>\n",
       "    </tr>\n",
       "  </thead>\n",
       "  <tbody>\n",
       "    <tr>\n",
       "      <th>Marital status</th>\n",
       "      <td>4424.0</td>\n",
       "      <td>1.178571</td>\n",
       "      <td>0.605747</td>\n",
       "      <td>1.00</td>\n",
       "      <td>1.00</td>\n",
       "      <td>1.000000</td>\n",
       "      <td>1.000000</td>\n",
       "      <td>6.000000</td>\n",
       "    </tr>\n",
       "    <tr>\n",
       "      <th>Application mode</th>\n",
       "      <td>4424.0</td>\n",
       "      <td>18.669078</td>\n",
       "      <td>17.484682</td>\n",
       "      <td>1.00</td>\n",
       "      <td>1.00</td>\n",
       "      <td>17.000000</td>\n",
       "      <td>39.000000</td>\n",
       "      <td>57.000000</td>\n",
       "    </tr>\n",
       "    <tr>\n",
       "      <th>Application order</th>\n",
       "      <td>4424.0</td>\n",
       "      <td>1.727848</td>\n",
       "      <td>1.313793</td>\n",
       "      <td>0.00</td>\n",
       "      <td>1.00</td>\n",
       "      <td>1.000000</td>\n",
       "      <td>2.000000</td>\n",
       "      <td>9.000000</td>\n",
       "    </tr>\n",
       "    <tr>\n",
       "      <th>Course</th>\n",
       "      <td>4424.0</td>\n",
       "      <td>8856.642631</td>\n",
       "      <td>2063.566416</td>\n",
       "      <td>33.00</td>\n",
       "      <td>9085.00</td>\n",
       "      <td>9238.000000</td>\n",
       "      <td>9556.000000</td>\n",
       "      <td>9991.000000</td>\n",
       "    </tr>\n",
       "    <tr>\n",
       "      <th>Daytime/evening attendance\\t</th>\n",
       "      <td>4424.0</td>\n",
       "      <td>0.890823</td>\n",
       "      <td>0.311897</td>\n",
       "      <td>0.00</td>\n",
       "      <td>1.00</td>\n",
       "      <td>1.000000</td>\n",
       "      <td>1.000000</td>\n",
       "      <td>1.000000</td>\n",
       "    </tr>\n",
       "    <tr>\n",
       "      <th>Previous qualification</th>\n",
       "      <td>4424.0</td>\n",
       "      <td>4.577758</td>\n",
       "      <td>10.216592</td>\n",
       "      <td>1.00</td>\n",
       "      <td>1.00</td>\n",
       "      <td>1.000000</td>\n",
       "      <td>1.000000</td>\n",
       "      <td>43.000000</td>\n",
       "    </tr>\n",
       "    <tr>\n",
       "      <th>Previous qualification (grade)</th>\n",
       "      <td>4424.0</td>\n",
       "      <td>132.613314</td>\n",
       "      <td>13.188332</td>\n",
       "      <td>95.00</td>\n",
       "      <td>125.00</td>\n",
       "      <td>133.100000</td>\n",
       "      <td>140.000000</td>\n",
       "      <td>190.000000</td>\n",
       "    </tr>\n",
       "    <tr>\n",
       "      <th>Nacionality</th>\n",
       "      <td>4424.0</td>\n",
       "      <td>1.873192</td>\n",
       "      <td>6.914514</td>\n",
       "      <td>1.00</td>\n",
       "      <td>1.00</td>\n",
       "      <td>1.000000</td>\n",
       "      <td>1.000000</td>\n",
       "      <td>109.000000</td>\n",
       "    </tr>\n",
       "    <tr>\n",
       "      <th>Mother's qualification</th>\n",
       "      <td>4424.0</td>\n",
       "      <td>19.561935</td>\n",
       "      <td>15.603186</td>\n",
       "      <td>1.00</td>\n",
       "      <td>2.00</td>\n",
       "      <td>19.000000</td>\n",
       "      <td>37.000000</td>\n",
       "      <td>44.000000</td>\n",
       "    </tr>\n",
       "    <tr>\n",
       "      <th>Father's qualification</th>\n",
       "      <td>4424.0</td>\n",
       "      <td>22.275316</td>\n",
       "      <td>15.343108</td>\n",
       "      <td>1.00</td>\n",
       "      <td>3.00</td>\n",
       "      <td>19.000000</td>\n",
       "      <td>37.000000</td>\n",
       "      <td>44.000000</td>\n",
       "    </tr>\n",
       "    <tr>\n",
       "      <th>Mother's occupation</th>\n",
       "      <td>4424.0</td>\n",
       "      <td>10.960895</td>\n",
       "      <td>26.418253</td>\n",
       "      <td>0.00</td>\n",
       "      <td>4.00</td>\n",
       "      <td>5.000000</td>\n",
       "      <td>9.000000</td>\n",
       "      <td>194.000000</td>\n",
       "    </tr>\n",
       "    <tr>\n",
       "      <th>Father's occupation</th>\n",
       "      <td>4424.0</td>\n",
       "      <td>11.032324</td>\n",
       "      <td>25.263040</td>\n",
       "      <td>0.00</td>\n",
       "      <td>4.00</td>\n",
       "      <td>7.000000</td>\n",
       "      <td>9.000000</td>\n",
       "      <td>195.000000</td>\n",
       "    </tr>\n",
       "    <tr>\n",
       "      <th>Admission grade</th>\n",
       "      <td>4424.0</td>\n",
       "      <td>126.978119</td>\n",
       "      <td>14.482001</td>\n",
       "      <td>95.00</td>\n",
       "      <td>117.90</td>\n",
       "      <td>126.100000</td>\n",
       "      <td>134.800000</td>\n",
       "      <td>190.000000</td>\n",
       "    </tr>\n",
       "    <tr>\n",
       "      <th>Displaced</th>\n",
       "      <td>4424.0</td>\n",
       "      <td>0.548373</td>\n",
       "      <td>0.497711</td>\n",
       "      <td>0.00</td>\n",
       "      <td>0.00</td>\n",
       "      <td>1.000000</td>\n",
       "      <td>1.000000</td>\n",
       "      <td>1.000000</td>\n",
       "    </tr>\n",
       "    <tr>\n",
       "      <th>Educational special needs</th>\n",
       "      <td>4424.0</td>\n",
       "      <td>0.011528</td>\n",
       "      <td>0.106760</td>\n",
       "      <td>0.00</td>\n",
       "      <td>0.00</td>\n",
       "      <td>0.000000</td>\n",
       "      <td>0.000000</td>\n",
       "      <td>1.000000</td>\n",
       "    </tr>\n",
       "    <tr>\n",
       "      <th>Debtor</th>\n",
       "      <td>4424.0</td>\n",
       "      <td>0.113698</td>\n",
       "      <td>0.317480</td>\n",
       "      <td>0.00</td>\n",
       "      <td>0.00</td>\n",
       "      <td>0.000000</td>\n",
       "      <td>0.000000</td>\n",
       "      <td>1.000000</td>\n",
       "    </tr>\n",
       "    <tr>\n",
       "      <th>Tuition fees up to date</th>\n",
       "      <td>4424.0</td>\n",
       "      <td>0.880651</td>\n",
       "      <td>0.324235</td>\n",
       "      <td>0.00</td>\n",
       "      <td>1.00</td>\n",
       "      <td>1.000000</td>\n",
       "      <td>1.000000</td>\n",
       "      <td>1.000000</td>\n",
       "    </tr>\n",
       "    <tr>\n",
       "      <th>Gender</th>\n",
       "      <td>4424.0</td>\n",
       "      <td>0.351718</td>\n",
       "      <td>0.477560</td>\n",
       "      <td>0.00</td>\n",
       "      <td>0.00</td>\n",
       "      <td>0.000000</td>\n",
       "      <td>1.000000</td>\n",
       "      <td>1.000000</td>\n",
       "    </tr>\n",
       "    <tr>\n",
       "      <th>Scholarship holder</th>\n",
       "      <td>4424.0</td>\n",
       "      <td>0.248418</td>\n",
       "      <td>0.432144</td>\n",
       "      <td>0.00</td>\n",
       "      <td>0.00</td>\n",
       "      <td>0.000000</td>\n",
       "      <td>0.000000</td>\n",
       "      <td>1.000000</td>\n",
       "    </tr>\n",
       "    <tr>\n",
       "      <th>Age at enrollment</th>\n",
       "      <td>4424.0</td>\n",
       "      <td>23.265145</td>\n",
       "      <td>7.587816</td>\n",
       "      <td>17.00</td>\n",
       "      <td>19.00</td>\n",
       "      <td>20.000000</td>\n",
       "      <td>25.000000</td>\n",
       "      <td>70.000000</td>\n",
       "    </tr>\n",
       "    <tr>\n",
       "      <th>International</th>\n",
       "      <td>4424.0</td>\n",
       "      <td>0.024864</td>\n",
       "      <td>0.155729</td>\n",
       "      <td>0.00</td>\n",
       "      <td>0.00</td>\n",
       "      <td>0.000000</td>\n",
       "      <td>0.000000</td>\n",
       "      <td>1.000000</td>\n",
       "    </tr>\n",
       "    <tr>\n",
       "      <th>Curricular units 1st sem (credited)</th>\n",
       "      <td>4424.0</td>\n",
       "      <td>0.709991</td>\n",
       "      <td>2.360507</td>\n",
       "      <td>0.00</td>\n",
       "      <td>0.00</td>\n",
       "      <td>0.000000</td>\n",
       "      <td>0.000000</td>\n",
       "      <td>20.000000</td>\n",
       "    </tr>\n",
       "    <tr>\n",
       "      <th>Curricular units 1st sem (enrolled)</th>\n",
       "      <td>4424.0</td>\n",
       "      <td>6.270570</td>\n",
       "      <td>2.480178</td>\n",
       "      <td>0.00</td>\n",
       "      <td>5.00</td>\n",
       "      <td>6.000000</td>\n",
       "      <td>7.000000</td>\n",
       "      <td>26.000000</td>\n",
       "    </tr>\n",
       "    <tr>\n",
       "      <th>Curricular units 1st sem (evaluations)</th>\n",
       "      <td>4424.0</td>\n",
       "      <td>8.299051</td>\n",
       "      <td>4.179106</td>\n",
       "      <td>0.00</td>\n",
       "      <td>6.00</td>\n",
       "      <td>8.000000</td>\n",
       "      <td>10.000000</td>\n",
       "      <td>45.000000</td>\n",
       "    </tr>\n",
       "    <tr>\n",
       "      <th>Curricular units 1st sem (approved)</th>\n",
       "      <td>4424.0</td>\n",
       "      <td>4.706600</td>\n",
       "      <td>3.094238</td>\n",
       "      <td>0.00</td>\n",
       "      <td>3.00</td>\n",
       "      <td>5.000000</td>\n",
       "      <td>6.000000</td>\n",
       "      <td>26.000000</td>\n",
       "    </tr>\n",
       "    <tr>\n",
       "      <th>Curricular units 1st sem (grade)</th>\n",
       "      <td>4424.0</td>\n",
       "      <td>10.640822</td>\n",
       "      <td>4.843663</td>\n",
       "      <td>0.00</td>\n",
       "      <td>11.00</td>\n",
       "      <td>12.285714</td>\n",
       "      <td>13.400000</td>\n",
       "      <td>18.875000</td>\n",
       "    </tr>\n",
       "    <tr>\n",
       "      <th>Curricular units 1st sem (without evaluations)</th>\n",
       "      <td>4424.0</td>\n",
       "      <td>0.137658</td>\n",
       "      <td>0.690880</td>\n",
       "      <td>0.00</td>\n",
       "      <td>0.00</td>\n",
       "      <td>0.000000</td>\n",
       "      <td>0.000000</td>\n",
       "      <td>12.000000</td>\n",
       "    </tr>\n",
       "    <tr>\n",
       "      <th>Curricular units 2nd sem (credited)</th>\n",
       "      <td>4424.0</td>\n",
       "      <td>0.541817</td>\n",
       "      <td>1.918546</td>\n",
       "      <td>0.00</td>\n",
       "      <td>0.00</td>\n",
       "      <td>0.000000</td>\n",
       "      <td>0.000000</td>\n",
       "      <td>19.000000</td>\n",
       "    </tr>\n",
       "    <tr>\n",
       "      <th>Curricular units 2nd sem (enrolled)</th>\n",
       "      <td>4424.0</td>\n",
       "      <td>6.232143</td>\n",
       "      <td>2.195951</td>\n",
       "      <td>0.00</td>\n",
       "      <td>5.00</td>\n",
       "      <td>6.000000</td>\n",
       "      <td>7.000000</td>\n",
       "      <td>23.000000</td>\n",
       "    </tr>\n",
       "    <tr>\n",
       "      <th>Curricular units 2nd sem (evaluations)</th>\n",
       "      <td>4424.0</td>\n",
       "      <td>8.063291</td>\n",
       "      <td>3.947951</td>\n",
       "      <td>0.00</td>\n",
       "      <td>6.00</td>\n",
       "      <td>8.000000</td>\n",
       "      <td>10.000000</td>\n",
       "      <td>33.000000</td>\n",
       "    </tr>\n",
       "    <tr>\n",
       "      <th>Curricular units 2nd sem (approved)</th>\n",
       "      <td>4424.0</td>\n",
       "      <td>4.435805</td>\n",
       "      <td>3.014764</td>\n",
       "      <td>0.00</td>\n",
       "      <td>2.00</td>\n",
       "      <td>5.000000</td>\n",
       "      <td>6.000000</td>\n",
       "      <td>20.000000</td>\n",
       "    </tr>\n",
       "    <tr>\n",
       "      <th>Curricular units 2nd sem (grade)</th>\n",
       "      <td>4424.0</td>\n",
       "      <td>10.230206</td>\n",
       "      <td>5.210808</td>\n",
       "      <td>0.00</td>\n",
       "      <td>10.75</td>\n",
       "      <td>12.200000</td>\n",
       "      <td>13.333333</td>\n",
       "      <td>18.571429</td>\n",
       "    </tr>\n",
       "    <tr>\n",
       "      <th>Curricular units 2nd sem (without evaluations)</th>\n",
       "      <td>4424.0</td>\n",
       "      <td>0.150316</td>\n",
       "      <td>0.753774</td>\n",
       "      <td>0.00</td>\n",
       "      <td>0.00</td>\n",
       "      <td>0.000000</td>\n",
       "      <td>0.000000</td>\n",
       "      <td>12.000000</td>\n",
       "    </tr>\n",
       "    <tr>\n",
       "      <th>Unemployment rate</th>\n",
       "      <td>4424.0</td>\n",
       "      <td>11.566139</td>\n",
       "      <td>2.663850</td>\n",
       "      <td>7.60</td>\n",
       "      <td>9.40</td>\n",
       "      <td>11.100000</td>\n",
       "      <td>13.900000</td>\n",
       "      <td>16.200000</td>\n",
       "    </tr>\n",
       "    <tr>\n",
       "      <th>Inflation rate</th>\n",
       "      <td>4424.0</td>\n",
       "      <td>1.228029</td>\n",
       "      <td>1.382711</td>\n",
       "      <td>-0.80</td>\n",
       "      <td>0.30</td>\n",
       "      <td>1.400000</td>\n",
       "      <td>2.600000</td>\n",
       "      <td>3.700000</td>\n",
       "    </tr>\n",
       "    <tr>\n",
       "      <th>GDP</th>\n",
       "      <td>4424.0</td>\n",
       "      <td>0.001969</td>\n",
       "      <td>2.269935</td>\n",
       "      <td>-4.06</td>\n",
       "      <td>-1.70</td>\n",
       "      <td>0.320000</td>\n",
       "      <td>1.790000</td>\n",
       "      <td>3.510000</td>\n",
       "    </tr>\n",
       "  </tbody>\n",
       "</table>\n",
       "</div>"
      ],
      "text/plain": [
       "                                                 count         mean  \\\n",
       "Marital status                                  4424.0     1.178571   \n",
       "Application mode                                4424.0    18.669078   \n",
       "Application order                               4424.0     1.727848   \n",
       "Course                                          4424.0  8856.642631   \n",
       "Daytime/evening attendance\\t                    4424.0     0.890823   \n",
       "Previous qualification                          4424.0     4.577758   \n",
       "Previous qualification (grade)                  4424.0   132.613314   \n",
       "Nacionality                                     4424.0     1.873192   \n",
       "Mother's qualification                          4424.0    19.561935   \n",
       "Father's qualification                          4424.0    22.275316   \n",
       "Mother's occupation                             4424.0    10.960895   \n",
       "Father's occupation                             4424.0    11.032324   \n",
       "Admission grade                                 4424.0   126.978119   \n",
       "Displaced                                       4424.0     0.548373   \n",
       "Educational special needs                       4424.0     0.011528   \n",
       "Debtor                                          4424.0     0.113698   \n",
       "Tuition fees up to date                         4424.0     0.880651   \n",
       "Gender                                          4424.0     0.351718   \n",
       "Scholarship holder                              4424.0     0.248418   \n",
       "Age at enrollment                               4424.0    23.265145   \n",
       "International                                   4424.0     0.024864   \n",
       "Curricular units 1st sem (credited)             4424.0     0.709991   \n",
       "Curricular units 1st sem (enrolled)             4424.0     6.270570   \n",
       "Curricular units 1st sem (evaluations)          4424.0     8.299051   \n",
       "Curricular units 1st sem (approved)             4424.0     4.706600   \n",
       "Curricular units 1st sem (grade)                4424.0    10.640822   \n",
       "Curricular units 1st sem (without evaluations)  4424.0     0.137658   \n",
       "Curricular units 2nd sem (credited)             4424.0     0.541817   \n",
       "Curricular units 2nd sem (enrolled)             4424.0     6.232143   \n",
       "Curricular units 2nd sem (evaluations)          4424.0     8.063291   \n",
       "Curricular units 2nd sem (approved)             4424.0     4.435805   \n",
       "Curricular units 2nd sem (grade)                4424.0    10.230206   \n",
       "Curricular units 2nd sem (without evaluations)  4424.0     0.150316   \n",
       "Unemployment rate                               4424.0    11.566139   \n",
       "Inflation rate                                  4424.0     1.228029   \n",
       "GDP                                             4424.0     0.001969   \n",
       "\n",
       "                                                        std    min      25%  \\\n",
       "Marital status                                     0.605747   1.00     1.00   \n",
       "Application mode                                  17.484682   1.00     1.00   \n",
       "Application order                                  1.313793   0.00     1.00   \n",
       "Course                                          2063.566416  33.00  9085.00   \n",
       "Daytime/evening attendance\\t                       0.311897   0.00     1.00   \n",
       "Previous qualification                            10.216592   1.00     1.00   \n",
       "Previous qualification (grade)                    13.188332  95.00   125.00   \n",
       "Nacionality                                        6.914514   1.00     1.00   \n",
       "Mother's qualification                            15.603186   1.00     2.00   \n",
       "Father's qualification                            15.343108   1.00     3.00   \n",
       "Mother's occupation                               26.418253   0.00     4.00   \n",
       "Father's occupation                               25.263040   0.00     4.00   \n",
       "Admission grade                                   14.482001  95.00   117.90   \n",
       "Displaced                                          0.497711   0.00     0.00   \n",
       "Educational special needs                          0.106760   0.00     0.00   \n",
       "Debtor                                             0.317480   0.00     0.00   \n",
       "Tuition fees up to date                            0.324235   0.00     1.00   \n",
       "Gender                                             0.477560   0.00     0.00   \n",
       "Scholarship holder                                 0.432144   0.00     0.00   \n",
       "Age at enrollment                                  7.587816  17.00    19.00   \n",
       "International                                      0.155729   0.00     0.00   \n",
       "Curricular units 1st sem (credited)                2.360507   0.00     0.00   \n",
       "Curricular units 1st sem (enrolled)                2.480178   0.00     5.00   \n",
       "Curricular units 1st sem (evaluations)             4.179106   0.00     6.00   \n",
       "Curricular units 1st sem (approved)                3.094238   0.00     3.00   \n",
       "Curricular units 1st sem (grade)                   4.843663   0.00    11.00   \n",
       "Curricular units 1st sem (without evaluations)     0.690880   0.00     0.00   \n",
       "Curricular units 2nd sem (credited)                1.918546   0.00     0.00   \n",
       "Curricular units 2nd sem (enrolled)                2.195951   0.00     5.00   \n",
       "Curricular units 2nd sem (evaluations)             3.947951   0.00     6.00   \n",
       "Curricular units 2nd sem (approved)                3.014764   0.00     2.00   \n",
       "Curricular units 2nd sem (grade)                   5.210808   0.00    10.75   \n",
       "Curricular units 2nd sem (without evaluations)     0.753774   0.00     0.00   \n",
       "Unemployment rate                                  2.663850   7.60     9.40   \n",
       "Inflation rate                                     1.382711  -0.80     0.30   \n",
       "GDP                                                2.269935  -4.06    -1.70   \n",
       "\n",
       "                                                        50%          75%  \\\n",
       "Marital status                                     1.000000     1.000000   \n",
       "Application mode                                  17.000000    39.000000   \n",
       "Application order                                  1.000000     2.000000   \n",
       "Course                                          9238.000000  9556.000000   \n",
       "Daytime/evening attendance\\t                       1.000000     1.000000   \n",
       "Previous qualification                             1.000000     1.000000   \n",
       "Previous qualification (grade)                   133.100000   140.000000   \n",
       "Nacionality                                        1.000000     1.000000   \n",
       "Mother's qualification                            19.000000    37.000000   \n",
       "Father's qualification                            19.000000    37.000000   \n",
       "Mother's occupation                                5.000000     9.000000   \n",
       "Father's occupation                                7.000000     9.000000   \n",
       "Admission grade                                  126.100000   134.800000   \n",
       "Displaced                                          1.000000     1.000000   \n",
       "Educational special needs                          0.000000     0.000000   \n",
       "Debtor                                             0.000000     0.000000   \n",
       "Tuition fees up to date                            1.000000     1.000000   \n",
       "Gender                                             0.000000     1.000000   \n",
       "Scholarship holder                                 0.000000     0.000000   \n",
       "Age at enrollment                                 20.000000    25.000000   \n",
       "International                                      0.000000     0.000000   \n",
       "Curricular units 1st sem (credited)                0.000000     0.000000   \n",
       "Curricular units 1st sem (enrolled)                6.000000     7.000000   \n",
       "Curricular units 1st sem (evaluations)             8.000000    10.000000   \n",
       "Curricular units 1st sem (approved)                5.000000     6.000000   \n",
       "Curricular units 1st sem (grade)                  12.285714    13.400000   \n",
       "Curricular units 1st sem (without evaluations)     0.000000     0.000000   \n",
       "Curricular units 2nd sem (credited)                0.000000     0.000000   \n",
       "Curricular units 2nd sem (enrolled)                6.000000     7.000000   \n",
       "Curricular units 2nd sem (evaluations)             8.000000    10.000000   \n",
       "Curricular units 2nd sem (approved)                5.000000     6.000000   \n",
       "Curricular units 2nd sem (grade)                  12.200000    13.333333   \n",
       "Curricular units 2nd sem (without evaluations)     0.000000     0.000000   \n",
       "Unemployment rate                                 11.100000    13.900000   \n",
       "Inflation rate                                     1.400000     2.600000   \n",
       "GDP                                                0.320000     1.790000   \n",
       "\n",
       "                                                        max  \n",
       "Marital status                                     6.000000  \n",
       "Application mode                                  57.000000  \n",
       "Application order                                  9.000000  \n",
       "Course                                          9991.000000  \n",
       "Daytime/evening attendance\\t                       1.000000  \n",
       "Previous qualification                            43.000000  \n",
       "Previous qualification (grade)                   190.000000  \n",
       "Nacionality                                      109.000000  \n",
       "Mother's qualification                            44.000000  \n",
       "Father's qualification                            44.000000  \n",
       "Mother's occupation                              194.000000  \n",
       "Father's occupation                              195.000000  \n",
       "Admission grade                                  190.000000  \n",
       "Displaced                                          1.000000  \n",
       "Educational special needs                          1.000000  \n",
       "Debtor                                             1.000000  \n",
       "Tuition fees up to date                            1.000000  \n",
       "Gender                                             1.000000  \n",
       "Scholarship holder                                 1.000000  \n",
       "Age at enrollment                                 70.000000  \n",
       "International                                      1.000000  \n",
       "Curricular units 1st sem (credited)               20.000000  \n",
       "Curricular units 1st sem (enrolled)               26.000000  \n",
       "Curricular units 1st sem (evaluations)            45.000000  \n",
       "Curricular units 1st sem (approved)               26.000000  \n",
       "Curricular units 1st sem (grade)                  18.875000  \n",
       "Curricular units 1st sem (without evaluations)    12.000000  \n",
       "Curricular units 2nd sem (credited)               19.000000  \n",
       "Curricular units 2nd sem (enrolled)               23.000000  \n",
       "Curricular units 2nd sem (evaluations)            33.000000  \n",
       "Curricular units 2nd sem (approved)               20.000000  \n",
       "Curricular units 2nd sem (grade)                  18.571429  \n",
       "Curricular units 2nd sem (without evaluations)    12.000000  \n",
       "Unemployment rate                                 16.200000  \n",
       "Inflation rate                                     3.700000  \n",
       "GDP                                                3.510000  "
      ]
     },
     "execution_count": 140,
     "metadata": {},
     "output_type": "execute_result"
    }
   ],
   "source": [
    "df.describe().transpose()"
   ]
  },
  {
   "cell_type": "markdown",
   "metadata": {},
   "source": [
    "# EDA and Feature Engineer"
   ]
  },
  {
   "cell_type": "markdown",
   "metadata": {},
   "source": [
    "Kode tersebut merupakan pemanggilan fungsi `countplot` dari pustaka `seaborn` (diwakili oleh `sns`). Fungsi ini digunakan untuk membuat diagram batang yang menghitung jumlah pengamatan dalam setiap kategori pada sumbu x (dalam kasus ini, 'Marital status') dan membaginya berdasarkan kategori yang diberikan dalam parameter `hue` (dalam kasus ini, 'Target'). Tujuannya adalah untuk memberikan pemahaman visual tentang bagaimana variabel 'Marital status' terkait dengan target yang ingin diprediksi atau dipahami.\n",
    "\n",
    "Dengan menggunakan diagram batang ini, pembaca dapat melihat distribusi target (misalnya, kelas positif dan negatif) dalam setiap kategori 'Marital status', yang dapat membantu dalam pemahaman pola atau tren dalam data dan dalam membuat keputusan terkait dengan analisis lebih lanjut.\n"
   ]
  },
  {
   "cell_type": "code",
   "execution_count": 141,
   "metadata": {},
   "outputs": [
    {
     "data": {
      "text/plain": [
       "<Axes: xlabel='Marital status', ylabel='count'>"
      ]
     },
     "execution_count": 141,
     "metadata": {},
     "output_type": "execute_result"
    },
    {
     "data": {
      "image/png": "[encoded data removed]",
      "text/plain": [
       "<Figure size 640x480 with 1 Axes>"
      ]
     },
     "metadata": {},
     "output_type": "display_data"
    }
   ],
   "source": [
    "sns.countplot(x='Marital status',data=df,hue='Target')"
   ]
  },
  {
   "cell_type": "markdown",
   "metadata": {},
   "source": [
    "Baris kode ini berfungsi untuk menyaring DataFrame `df` sehingga hanya menyertakan baris-baris di mana kolom `Target` memiliki nilai 'Graduate' atau 'Dropout'. Dengan kata lain, ini membatasi dataset hanya pada dua kategori tertentu dari variabel target untuk analisis atau pemodelan lebih lanjut. \n",
    "\n",
    "Tujuan dari penyaringan ini adalah untuk memfokuskan analisis atau pelatihan model hanya pada sampel dengan label 'Graduate' atau 'Dropout', mengabaikan sampel dengan label lain yang mungkin ada di kolom `Target`.\n"
   ]
  },
  {
   "cell_type": "code",
   "execution_count": 142,
   "metadata": {},
   "outputs": [],
   "source": [
    "df = df[(df['Target'] == 'Graduate') | (df['Target'] == 'Dropout')]"
   ]
  },
  {
   "cell_type": "markdown",
   "metadata": {},
   "source": [
    "Baris kode `df['Target'] = df['Target'].map({'Dropout': 0, 'Graduate': 1})` digunakan untuk mengubah nilai kategori pada kolom `Target` menjadi nilai numerik. Dalam hal ini, nilai 'Dropout' diubah menjadi 0 dan nilai 'Graduate' diubah menjadi 1. \n",
    "\n",
    "Tujuannya adalah untuk mempermudah proses pemodelan dengan algoritma pembelajaran mesin yang umumnya membutuhkan input numerik untuk bekerja dengan baik.\n"
   ]
  },
  {
   "cell_type": "code",
   "execution_count": 143,
   "metadata": {},
   "outputs": [
    {
     "name": "stderr",
     "output_type": "stream",
     "text": [
      "C:\\Users\\Lenovo\\AppData\\Local\\Temp\\ipykernel_6816\\4282410261.py:1: SettingWithCopyWarning: \n",
      "A value is trying to be set on a copy of a slice from a DataFrame.\n",
      "Try using .loc[row_indexer,col_indexer] = value instead\n",
      "\n",
      "See the caveats in the documentation: https://pandas.pydata.org/pandas-docs/stable/user_guide/indexing.html#returning-a-view-versus-a-copy\n",
      "  df['Target'] = df['Target'].map({'Dropout': 0, 'Graduate': 1})\n"
     ]
    }
   ],
   "source": [
    "df['Target'] = df['Target'].map({'Dropout': 0, 'Graduate': 1})"
   ]
  },
  {
   "cell_type": "markdown",
   "metadata": {},
   "source": [
    "Code `df.corr()['Target'].sort_values()` digunakan untuk menghitung korelasi antara setiap fitur dalam DataFrame `df` dengan kolom target ('Target'). \n",
    "\n",
    "Penjelasan:\n",
    "1. `df.corr()` menghitung matriks korelasi antar kolom dalam DataFrame `df`.\n",
    "2. `['Target']` memilih kolom 'Target' dari matriks korelasi, sehingga kita hanya mendapatkan korelasi setiap fitur dengan target.\n",
    "3. `sort_values()` mengurutkan nilai korelasi tersebut secara ascending (dari yang paling negatif hingga yang paling positif).\n",
    "\n",
    "Tujuan:\n",
    "Perintah ini membantu dalam memahami seberapa kuat dan arah hubungan (positif/negatif) antara setiap fitur dengan variabel target. Dengan mengetahui fitur mana yang memiliki korelasi tinggi dengan target, kita dapat lebih memahami pentingnya fitur tersebut dalam prediksi model.\n"
   ]
  },
  {
   "cell_type": "code",
   "execution_count": 144,
   "metadata": {},
   "outputs": [
    {
     "data": {
      "text/plain": [
       "Age at enrollment                                -0.267229\n",
       "Debtor                                           -0.267207\n",
       "Gender                                           -0.251955\n",
       "Application mode                                 -0.244507\n",
       "Curricular units 2nd sem (without evaluations)   -0.102687\n",
       "Marital status                                   -0.100479\n",
       "Curricular units 1st sem (without evaluations)   -0.074642\n",
       "Previous qualification                           -0.062323\n",
       "Mother's qualification                           -0.053989\n",
       "Inflation rate                                   -0.030326\n",
       "Nacionality                                      -0.015516\n",
       "Educational special needs                        -0.007254\n",
       "Father's qualification                           -0.005865\n",
       "Mother's occupation                               0.000772\n",
       "Unemployment rate                                 0.004198\n",
       "Father's occupation                               0.005066\n",
       "International                                     0.006181\n",
       "Course                                            0.038135\n",
       "Curricular units 1st sem (credited)               0.046900\n",
       "GDP                                               0.050260\n",
       "Curricular units 2nd sem (credited)               0.052402\n",
       "Curricular units 1st sem (evaluations)            0.059786\n",
       "Daytime/evening attendance\\t                      0.084496\n",
       "Application order                                 0.094355\n",
       "Previous qualification (grade)                    0.109464\n",
       "Curricular units 2nd sem (evaluations)            0.119239\n",
       "Displaced                                         0.126113\n",
       "Admission grade                                   0.128058\n",
       "Curricular units 1st sem (enrolled)               0.161074\n",
       "Curricular units 2nd sem (enrolled)               0.182897\n",
       "Scholarship holder                                0.313018\n",
       "Tuition fees up to date                           0.442138\n",
       "Curricular units 1st sem (grade)                  0.519927\n",
       "Curricular units 1st sem (approved)               0.554881\n",
       "Curricular units 2nd sem (grade)                  0.605350\n",
       "Curricular units 2nd sem (approved)               0.653995\n",
       "Target                                            1.000000\n",
       "Name: Target, dtype: float64"
      ]
     },
     "execution_count": 144,
     "metadata": {},
     "output_type": "execute_result"
    }
   ],
   "source": [
    "df.corr()['Target'].sort_values()"
   ]
  },
  {
   "cell_type": "markdown",
   "metadata": {},
   "source": [
    "Kode tersebut digunakan untuk membuat visualisasi heatmap dari korelasi antar variabel dalam DataFrame menggunakan `seaborn` dan `matplotlib`:\n",
    "\n",
    "1. `plt.figure(figsize=(14,10))` digunakan untuk mengatur ukuran figur plot menjadi 14x10 inci, yang memberikan area visual yang lebih besar dan lebih jelas.\n",
    "2. `sns.heatmap(data=df.corr(), cmap='YlOrBr')` digunakan untuk membuat heatmap:\n",
    "   - `data=df.corr()` menghitung matriks korelasi antar variabel dalam DataFrame `df`.\n",
    "   - `cmap='YlOrBr'` menentukan skema warna 'Yellow-Orange-Brown' untuk heatmap.\n",
    "\n",
    "### Tujuan\n",
    "Heatmap ini bertujuan untuk memvisualisasikan korelasi antara variabel-variabel dalam dataset. Korelasi diukur dalam rentang -1 hingga 1:\n",
    "- Nilai mendekati 1 menunjukkan korelasi positif yang kuat.\n",
    "- Nilai mendekati -1 menunjukkan korelasi negatif yang kuat.\n",
    "- Nilai mendekati 0 menunjukkan tidak ada korelasi.\n",
    "\n",
    "Visualisasi ini membantu dalam mengidentifikasi hubungan linear antar variabel yang dapat berguna dalam analisis data dan pengembangan model machine learning.\n"
   ]
  },
  {
   "cell_type": "code",
   "execution_count": 145,
   "metadata": {},
   "outputs": [
    {
     "name": "stderr",
     "output_type": "stream",
     "text": [
      "c:\\Users\\Lenovo\\AppData\\Local\\Programs\\Python\\Python310\\lib\\site-packages\\seaborn\\utils.py:61: UserWarning: Glyph 9 (\t) missing from current font.\n",
      "  fig.canvas.draw()\n"
     ]
    },
    {
     "data": {
      "text/plain": [
       "<Axes: >"
      ]
     },
     "execution_count": 145,
     "metadata": {},
     "output_type": "execute_result"
    },
    {
     "name": "stderr",
     "output_type": "stream",
     "text": [
      "C:\\Users\\Lenovo\\AppData\\Roaming\\Python\\Python310\\site-packages\\IPython\\core\\events.py:82: UserWarning: Glyph 9 (\t) missing from current font.\n",
      "  func(*args, **kwargs)\n",
      "C:\\Users\\Lenovo\\AppData\\Roaming\\Python\\Python310\\site-packages\\IPython\\core\\pylabtools.py:152: UserWarning: Glyph 9 (\t) missing from current font.\n",
      "  fig.canvas.print_figure(bytes_io, **kw)\n"
     ]
    },
    {
     "data": {
      "image/png": "[encoded data removed]",
      "text/plain": [
       "<Figure size 1400x1000 with 2 Axes>"
      ]
     },
     "metadata": {},
     "output_type": "display_data"
    }
   ],
   "source": [
    "plt.figure(figsize=(14,10))\n",
    "sns.heatmap(data=df.corr(),cmap='YlOrBr')"
   ]
  },
  {
   "cell_type": "markdown",
   "metadata": {},
   "source": [
    "Baris kode `df['Target'].unique()` digunakan untuk menampilkan nilai unik dari kolom `Target` dalam DataFrame `df`. \n",
    "\n",
    "### Tujuan\n",
    "Tujuan dari perintah ini adalah untuk mengetahui kategori atau kelas yang berbeda yang ada dalam kolom `Target`. Ini penting untuk memahami jenis klasifikasi yang akan dilakukan dan untuk memastikan bahwa data target sudah sesuai dengan yang diharapkan.\n",
    "\n",
    "Contoh hasil:\n",
    "- Jika kolom `Target` memiliki nilai `[0, 1]`, berarti ini adalah masalah klasifikasi biner.\n",
    "\n",
    "lKetika kita Mengetahui nilai unik dalam kolom target membantu dalam proses eksplorasi data dan validasi sebelum melanjutkan ke tahap pemodelan.\n"
   ]
  },
  {
   "cell_type": "code",
   "execution_count": 146,
   "metadata": {},
   "outputs": [
    {
     "data": {
      "text/plain": [
       "array([0, 1], dtype=int64)"
      ]
     },
     "execution_count": 146,
     "metadata": {},
     "output_type": "execute_result"
    }
   ],
   "source": [
    "df['Target'].unique()"
   ]
  },
  {
   "cell_type": "markdown",
   "metadata": {},
   "source": [
    "Baris kode `sns.countplot(x='Marital status', data=df, hue='Target')` menggunakan pustaka Seaborn untuk membuat visualisasi data dalam bentuk count plot. \n",
    "\n",
    "### Penjelasan\n",
    "- **Seaborn (`sns`)**: Pustaka visualisasi data yang dibangun di atas Matplotlib, menawarkan antarmuka tingkat tinggi untuk menggambar grafik statistik yang menarik.\n",
    "- **`countplot`**: Fungsi Seaborn untuk membuat plot jumlah pengamatan dalam setiap kategori dari fitur kategorikal.\n",
    "- **`x='Marital status'`**: Menentukan kolom 'Marital status' sebagai sumbu x, yang berarti setiap kategori dalam kolom ini akan diwakili pada sumbu x.\n",
    "- **`data=df`**: Menentukan DataFrame yang digunakan untuk plot, dalam hal ini 'df'.\n",
    "- **`hue='Target'`**: Menambahkan pembeda warna berdasarkan kolom 'Target', memungkinkan visualisasi perbandingan distribusi antar kelompok dalam setiap kategori 'Marital status'.\n",
    "\n",
    "### Tujuan\n",
    "Tujuan dari plot ini adalah untuk melihat distribusi kategori 'Marital status' dalam dataset, serta bagaimana distribusi tersebut berbeda-beda berdasarkan nilai dari kolom 'Target'. Ini dapat membantu dalam memahami pola atau hubungan antara status pernikahan dan target yang dituju, yang berguna untuk analisis eksplorasi data dan penentuan fitur yang penting. \n"
   ]
  },
  {
   "cell_type": "code",
   "execution_count": 147,
   "metadata": {},
   "outputs": [
    {
     "data": {
      "text/plain": [
       "<Axes: xlabel='Marital status', ylabel='count'>"
      ]
     },
     "execution_count": 147,
     "metadata": {},
     "output_type": "execute_result"
    },
    {
     "data": {
      "image/png": "[encoded data removed]",
      "text/plain": [
       "<Figure size 640x480 with 1 Axes>"
      ]
     },
     "metadata": {},
     "output_type": "display_data"
    }
   ],
   "source": [
    "sns.countplot(x='Marital status',data=df,hue='Target')"
   ]
  },
  {
   "cell_type": "code",
   "execution_count": 148,
   "metadata": {},
   "outputs": [
    {
     "data": {
      "text/plain": [
       "Application mode\n",
       "1     1408\n",
       "17     713\n",
       "39     664\n",
       "43     237\n",
       "44     157\n",
       "7      132\n",
       "18     108\n",
       "42      66\n",
       "51      46\n",
       "16      30\n",
       "53      25\n",
       "15      20\n",
       "10      10\n",
       "5        8\n",
       "2        3\n",
       "57       1\n",
       "26       1\n",
       "27       1\n",
       "Name: count, dtype: int64"
      ]
     },
     "execution_count": 148,
     "metadata": {},
     "output_type": "execute_result"
    }
   ],
   "source": [
    "df['Application mode'].value_counts()"
   ]
  },
  {
   "cell_type": "code",
   "execution_count": 149,
   "metadata": {},
   "outputs": [
    {
     "data": {
      "text/plain": [
       "<Axes: xlabel='Application mode', ylabel='count'>"
      ]
     },
     "execution_count": 149,
     "metadata": {},
     "output_type": "execute_result"
    },
    {
     "data": {
      "image/png": "[encoded data removed]",
      "text/plain": [
       "<Figure size 640x480 with 1 Axes>"
      ]
     },
     "metadata": {},
     "output_type": "display_data"
    }
   ],
   "source": [
    "sns.countplot(x='Application mode',data=df,hue='Target')"
   ]
  },
  {
   "cell_type": "code",
   "execution_count": 150,
   "metadata": {},
   "outputs": [
    {
     "data": {
      "text/plain": [
       "Application order\n",
       "1    2461\n",
       "2     451\n",
       "3     249\n",
       "4     218\n",
       "5     129\n",
       "6     121\n",
       "0       1\n",
       "Name: count, dtype: int64"
      ]
     },
     "execution_count": 150,
     "metadata": {},
     "output_type": "execute_result"
    }
   ],
   "source": [
    "df['Application order'].value_counts()"
   ]
  },
  {
   "cell_type": "code",
   "execution_count": 151,
   "metadata": {},
   "outputs": [],
   "source": [
    "df = df[df['Application order'] != 0]"
   ]
  },
  {
   "cell_type": "code",
   "execution_count": 152,
   "metadata": {},
   "outputs": [
    {
     "data": {
      "text/plain": [
       "Course\n",
       "9500    666\n",
       "9238    313\n",
       "9773    297\n",
       "9147    272\n",
       "9085    262\n",
       "9670    220\n",
       "9991    214\n",
       "9254    211\n",
       "8014    194\n",
       "9070    184\n",
       "171     178\n",
       "9003    172\n",
       "9853    142\n",
       "9130    120\n",
       "9119    106\n",
       "9556     69\n",
       "33        9\n",
       "Name: count, dtype: int64"
      ]
     },
     "execution_count": 152,
     "metadata": {},
     "output_type": "execute_result"
    }
   ],
   "source": [
    "df['Course'].value_counts()"
   ]
  },
  {
   "cell_type": "code",
   "execution_count": 153,
   "metadata": {},
   "outputs": [
    {
     "data": {
      "text/plain": [
       "35      0\n",
       "693     0\n",
       "720     0\n",
       "2256    0\n",
       "2502    1\n",
       "3175    0\n",
       "3276    0\n",
       "3585    0\n",
       "3713    0\n",
       "Name: Target, dtype: int64"
      ]
     },
     "execution_count": 153,
     "metadata": {},
     "output_type": "execute_result"
    }
   ],
   "source": [
    "df[df['Course'] == 33]['Target']"
   ]
  },
  {
   "cell_type": "code",
   "execution_count": 154,
   "metadata": {},
   "outputs": [
    {
     "data": {
      "text/plain": [
       "<Axes: xlabel='Age at enrollment', ylabel='Count'>"
      ]
     },
     "execution_count": 154,
     "metadata": {},
     "output_type": "execute_result"
    },
    {
     "data": {
      "image/png": "[encoded data removed]",
      "text/plain": [
       "<Figure size 1000x600 with 1 Axes>"
      ]
     },
     "metadata": {},
     "output_type": "display_data"
    }
   ],
   "source": [
    "plt.figure(figsize=(10,6))\n",
    "sns.histplot(x='Age at enrollment',data=df,hue='Target')"
   ]
  },
  {
   "cell_type": "markdown",
   "metadata": {},
   "source": [
    "Tujuan dari code ini untuk menghitung jumlah entri dalam kolom 'Target' yang memiliki nilai 0, dikelompokkan berdasarkan nilai pada kolom 'Age at enrollment', dan hasilnya disimpan dalam variabel a. Ini berguna untuk menganalisis distribusi data pada kolom 'Age at enrollment' terhadap kelompok target yang memiliki nilai 0 pada kolom 'Target'. Dengan demikian, kita dapat memperoleh wawasan tentang hubungan antara usia pendaftaran dan status target dalam dataset.\n"
   ]
  },
  {
   "cell_type": "code",
   "execution_count": 155,
   "metadata": {},
   "outputs": [],
   "source": [
    "a = (df[df['Target'] == 0].groupby('Age at enrollment').count()['Target'])"
   ]
  },
  {
   "cell_type": "markdown",
   "metadata": {},
   "source": [
    "Kode tersebut menghasilkan variabel 'b', yang merupakan hasil pengelompokkan data dari dataframe 'df'. Data yang diambil adalah subset dari 'df' di mana nilai kolom 'Target' sama dengan 1. Kemudian, data tersebut dikelompokkan berdasarkan nilai kolom 'Age at enrollment', dan dihitung jumlah entri untuk setiap kelompok. Hasilnya adalah jumlah entri untuk setiap kelompok umur pada saat pendaftaran dengan nilai 'Target' sama dengan 1.\n",
    "\n",
    "Tujuan dari kode ini adalah untuk menganalisis distribusi atau frekuensi data untuk kategori tertentu ('Target' dengan nilai 1) berdasarkan variabel 'Age at enrollment'. Dengan demikian, kita dapat memahami pola atau tren yang mungkin terjadi terkait dengan 'Target' pada rentang usia tertentu.\n"
   ]
  },
  {
   "cell_type": "code",
   "execution_count": 156,
   "metadata": {},
   "outputs": [],
   "source": [
    "b = (df[df['Target'] == 1].groupby('Age at enrollment').count()['Target'])"
   ]
  },
  {
   "cell_type": "markdown",
   "metadata": {},
   "source": [
    "Dalam kode tersebut, variabel 'dropout_rate' dihitung sebagai hasil pembagian antara variabel 'a' (jumlah entri untuk setiap kelompok umur pada saat pendaftaran dengan nilai 'Target' sama dengan 0) dan variabel 'b' (jumlah entri untuk setiap kelompok umur pada saat pendaftaran dengan nilai 'Target' sama dengan 1). \n",
    "\n",
    "Tujuannya adalah untuk menghitung tingkat dropout (atau tingkat keluar) berdasarkan kelompok umur pada saat pendaftaran dengan nilai 'Target' yang berbeda. Ini memberikan tentang seberapa banyak orang dalam setiap kelompok umur yang cenderung meninggalkan suatu kondisi atau program tertentu, yang dapat memberikan wawasan penting dalam analisis data.\n"
   ]
  },
  {
   "cell_type": "code",
   "execution_count": 157,
   "metadata": {},
   "outputs": [],
   "source": [
    "dropout_rate = a/b"
   ]
  },
  {
   "cell_type": "markdown",
   "metadata": {},
   "source": [
    "Kode `dropout_rate.dropna()` digunakan untuk menghapus nilai-nilai yang hilang (NaN) dari variabel 'dropout_rate'. Ini berarti hanya baris-baris yang memiliki nilai yang valid akan tetap dipertahankan, sementara baris dengan nilai yang hilang akan dihapus.\n",
    "\n",
    "Tujuan penggunaan ini adalah untuk membersihkan data dari nilai-nilai yang hilang sebelum melakukan analisis lebih lanjut. Dengan menghilangkan nilai-nilai yang hilang, kita dapat memastikan keakuratan dan konsistensi dalam analisis data, menghindari bias yang mungkin timbul akibat perlakuan yang berbeda terhadap nilai-nilai yang hilang.\n"
   ]
  },
  {
   "cell_type": "code",
   "execution_count": 158,
   "metadata": {},
   "outputs": [
    {
     "data": {
      "text/plain": [
       "Age at enrollment\n",
       "18    0.305136\n",
       "19    0.378428\n",
       "20    0.407975\n",
       "21    0.584906\n",
       "22    0.734177\n",
       "23    0.976190\n",
       "24    1.244444\n",
       "25    1.880000\n",
       "26    2.260870\n",
       "27    2.291667\n",
       "28    2.238095\n",
       "29    2.812500\n",
       "30    2.307692\n",
       "31    3.000000\n",
       "32    1.434783\n",
       "33    1.176471\n",
       "34    1.526316\n",
       "35    1.933333\n",
       "36    1.909091\n",
       "37    1.642857\n",
       "38    3.166667\n",
       "39    1.200000\n",
       "40    2.166667\n",
       "41    0.733333\n",
       "42    1.750000\n",
       "43    1.000000\n",
       "44    1.111111\n",
       "45    2.600000\n",
       "46    1.000000\n",
       "47    2.200000\n",
       "48    7.000000\n",
       "49    1.400000\n",
       "50    1.800000\n",
       "51    2.500000\n",
       "53    1.000000\n",
       "54    2.000000\n",
       "55    1.500000\n",
       "57    1.000000\n",
       "58    2.000000\n",
       "59    2.000000\n",
       "Name: Target, dtype: float64"
      ]
     },
     "execution_count": 158,
     "metadata": {},
     "output_type": "execute_result"
    }
   ],
   "source": [
    "dropout_rate.dropna()"
   ]
  },
  {
   "cell_type": "markdown",
   "metadata": {},
   "source": [
    "Kode ini digunakan untuk membuat visualisasi dari variabel 'dropout_rate' dalam bentuk grafik menggunakan `matplotlib.pyplot`. Pertama, sebuah gambar (figure) dengan ukuran 10x6 unit dibuat. Judul grafik ditetapkan sebagai 'Drop Out / Graduation Rate'. Kemudian, fungsi `plot()` digunakan untuk menggambar grafik dropout_rate.\n",
    "\n",
    "Tujuannya adalah untuk memberikan representasi visual dari tingkat dropout (atau kelulusan) berdasarkan kelompok umur pada saat pendaftaran dengan nilai 'Target' yang berbeda. Grafik ini membantu dalam pemahaman pola atau tren dropout rate di berbagai kelompok umur, sehingga memudahkan interpretasi dan analisis data.\n"
   ]
  },
  {
   "cell_type": "code",
   "execution_count": 159,
   "metadata": {},
   "outputs": [
    {
     "data": {
      "text/plain": [
       "<Axes: title={'center': 'Drop Out / Graduation Rate'}, xlabel='Age at enrollment'>"
      ]
     },
     "execution_count": 159,
     "metadata": {},
     "output_type": "execute_result"
    },
    {
     "data": {
      "image/png": "[encoded data removed]",
      "text/plain": [
       "<Figure size 1000x600 with 1 Axes>"
      ]
     },
     "metadata": {},
     "output_type": "display_data"
    }
   ],
   "source": [
    "plt.figure(figsize=(10,6))\n",
    "plt.title('Drop Out / Graduation Rate')\n",
    "dropout_rate.plot()"
   ]
  },
  {
   "cell_type": "code",
   "execution_count": 160,
   "metadata": {},
   "outputs": [
    {
     "data": {
      "text/plain": [
       "Previous qualification\n",
       "1     3019\n",
       "39     164\n",
       "19     149\n",
       "3      121\n",
       "12      39\n",
       "40      34\n",
       "42      28\n",
       "2       22\n",
       "6       15\n",
       "9       11\n",
       "4        7\n",
       "43       6\n",
       "38       6\n",
       "10       4\n",
       "15       2\n",
       "5        1\n",
       "14       1\n",
       "Name: count, dtype: int64"
      ]
     },
     "execution_count": 160,
     "metadata": {},
     "output_type": "execute_result"
    }
   ],
   "source": [
    "df['Previous qualification'].value_counts()"
   ]
  },
  {
   "cell_type": "code",
   "execution_count": 161,
   "metadata": {},
   "outputs": [
    {
     "data": {
      "text/html": [
       "<div>\n",
       "<style scoped>\n",
       "    .dataframe tbody tr th:only-of-type {\n",
       "        vertical-align: middle;\n",
       "    }\n",
       "\n",
       "    .dataframe tbody tr th {\n",
       "        vertical-align: top;\n",
       "    }\n",
       "\n",
       "    .dataframe thead th {\n",
       "        text-align: right;\n",
       "    }\n",
       "</style>\n",
       "<table border=\"1\" class=\"dataframe\">\n",
       "  <thead>\n",
       "    <tr style=\"text-align: right;\">\n",
       "      <th></th>\n",
       "      <th>Nacionality</th>\n",
       "      <th>International</th>\n",
       "    </tr>\n",
       "  </thead>\n",
       "  <tbody>\n",
       "    <tr>\n",
       "      <th>0</th>\n",
       "      <td>1</td>\n",
       "      <td>0</td>\n",
       "    </tr>\n",
       "    <tr>\n",
       "      <th>1</th>\n",
       "      <td>1</td>\n",
       "      <td>0</td>\n",
       "    </tr>\n",
       "    <tr>\n",
       "      <th>2</th>\n",
       "      <td>1</td>\n",
       "      <td>0</td>\n",
       "    </tr>\n",
       "    <tr>\n",
       "      <th>3</th>\n",
       "      <td>1</td>\n",
       "      <td>0</td>\n",
       "    </tr>\n",
       "    <tr>\n",
       "      <th>4</th>\n",
       "      <td>1</td>\n",
       "      <td>0</td>\n",
       "    </tr>\n",
       "    <tr>\n",
       "      <th>5</th>\n",
       "      <td>1</td>\n",
       "      <td>0</td>\n",
       "    </tr>\n",
       "    <tr>\n",
       "      <th>6</th>\n",
       "      <td>1</td>\n",
       "      <td>0</td>\n",
       "    </tr>\n",
       "    <tr>\n",
       "      <th>7</th>\n",
       "      <td>1</td>\n",
       "      <td>0</td>\n",
       "    </tr>\n",
       "    <tr>\n",
       "      <th>8</th>\n",
       "      <td>62</td>\n",
       "      <td>1</td>\n",
       "    </tr>\n",
       "    <tr>\n",
       "      <th>9</th>\n",
       "      <td>1</td>\n",
       "      <td>0</td>\n",
       "    </tr>\n",
       "  </tbody>\n",
       "</table>\n",
       "</div>"
      ],
      "text/plain": [
       "   Nacionality  International\n",
       "0            1              0\n",
       "1            1              0\n",
       "2            1              0\n",
       "3            1              0\n",
       "4            1              0\n",
       "5            1              0\n",
       "6            1              0\n",
       "7            1              0\n",
       "8           62              1\n",
       "9            1              0"
      ]
     },
     "execution_count": 161,
     "metadata": {},
     "output_type": "execute_result"
    }
   ],
   "source": [
    "df[['Nacionality','International']].head(10)"
   ]
  },
  {
   "cell_type": "code",
   "execution_count": 162,
   "metadata": {},
   "outputs": [
    {
     "data": {
      "text/plain": [
       "Nacionality\n",
       "1      3543\n",
       "41       32\n",
       "22       12\n",
       "26        9\n",
       "6         8\n",
       "24        5\n",
       "11        3\n",
       "103       3\n",
       "101       2\n",
       "100       2\n",
       "2         2\n",
       "25        1\n",
       "62        1\n",
       "13        1\n",
       "109       1\n",
       "21        1\n",
       "14        1\n",
       "17        1\n",
       "105       1\n",
       "Name: count, dtype: int64"
      ]
     },
     "execution_count": 162,
     "metadata": {},
     "output_type": "execute_result"
    }
   ],
   "source": [
    "df['Nacionality'].value_counts()"
   ]
  },
  {
   "cell_type": "code",
   "execution_count": 163,
   "metadata": {},
   "outputs": [
    {
     "data": {
      "text/plain": [
       "International\n",
       "0    3543\n",
       "1      86\n",
       "Name: count, dtype: int64"
      ]
     },
     "execution_count": 163,
     "metadata": {},
     "output_type": "execute_result"
    }
   ],
   "source": [
    "df['International'].value_counts()"
   ]
  },
  {
   "cell_type": "code",
   "execution_count": 164,
   "metadata": {},
   "outputs": [],
   "source": [
    "df.drop('International',axis=1,inplace=True)"
   ]
  },
  {
   "cell_type": "markdown",
   "metadata": {},
   "source": [
    "Kode tersebut memanggil fungsi `corr()` pada subset kolom 'Mother's occupation' dan 'Mother's qualification' dari dataframe 'df'. \n",
    "\n",
    "Tujuannya adalah untuk menghitung koefisien korelasi antara dua variabel tersebut. Korelasi memberikan tentang sejauh mana hubungan linier antara dua variabel, dalam hal ini, antara pekerjaan ibu dan kualifikasi ibu. Hasilnya dapat memberikan wawasan tentang apakah ada hubungan antara jenis pekerjaan yang dijalani oleh seorang ibu dengan kualifikasinya.\n",
    "\n"
   ]
  },
  {
   "cell_type": "code",
   "execution_count": 165,
   "metadata": {},
   "outputs": [
    {
     "data": {
      "text/html": [
       "<div>\n",
       "<style scoped>\n",
       "    .dataframe tbody tr th:only-of-type {\n",
       "        vertical-align: middle;\n",
       "    }\n",
       "\n",
       "    .dataframe tbody tr th {\n",
       "        vertical-align: top;\n",
       "    }\n",
       "\n",
       "    .dataframe thead th {\n",
       "        text-align: right;\n",
       "    }\n",
       "</style>\n",
       "<table border=\"1\" class=\"dataframe\">\n",
       "  <thead>\n",
       "    <tr style=\"text-align: right;\">\n",
       "      <th></th>\n",
       "      <th>Mother's occupation</th>\n",
       "      <th>Mother's qualification</th>\n",
       "    </tr>\n",
       "  </thead>\n",
       "  <tbody>\n",
       "    <tr>\n",
       "      <th>Mother's occupation</th>\n",
       "      <td>1.000000</td>\n",
       "      <td>0.093586</td>\n",
       "    </tr>\n",
       "    <tr>\n",
       "      <th>Mother's qualification</th>\n",
       "      <td>0.093586</td>\n",
       "      <td>1.000000</td>\n",
       "    </tr>\n",
       "  </tbody>\n",
       "</table>\n",
       "</div>"
      ],
      "text/plain": [
       "                        Mother's occupation  Mother's qualification\n",
       "Mother's occupation                1.000000                0.093586\n",
       "Mother's qualification             0.093586                1.000000"
      ]
     },
     "execution_count": 165,
     "metadata": {},
     "output_type": "execute_result"
    }
   ],
   "source": [
    "df[['Mother\\'s occupation','Mother\\'s qualification']].corr()"
   ]
  },
  {
   "cell_type": "code",
   "execution_count": 166,
   "metadata": {},
   "outputs": [
    {
     "data": {
      "text/plain": [
       "Tuition fees up to date\n",
       "1    3143\n",
       "0     486\n",
       "Name: count, dtype: int64"
      ]
     },
     "execution_count": 166,
     "metadata": {},
     "output_type": "execute_result"
    }
   ],
   "source": [
    "df['Tuition fees up to date'].value_counts()"
   ]
  },
  {
   "cell_type": "markdown",
   "metadata": {},
   "source": [
    "## Building Model\n",
    "Train Test Split"
   ]
  },
  {
   "cell_type": "markdown",
   "metadata": {},
   "source": [
    "1. `train_test_split` dari `sklearn.model_selection` digunakan untuk membagi dataset menjadi data latih dan data uji"
   ]
  },
  {
   "cell_type": "code",
   "execution_count": 167,
   "metadata": {},
   "outputs": [],
   "source": [
    "from sklearn.model_selection import train_test_split"
   ]
  },
  {
   "cell_type": "markdown",
   "metadata": {},
   "source": [
    "Baris pertama menghapus kolom 'Target' dari dataframe `df` dan menyimpan sisanya sebagai fitur, yang disimpan dalam variabel `X`.\n",
    "\n",
    "Baris kedua mengekstrak kolom 'Target' dari dataframe `df` dan menyimpannya sebagai label, yang disimpan dalam variabel `y`.\n",
    "\n",
    "Tujuan dari kode ini adalah memisahkan dataset menjadi dua bagian: satu berisi fitur-fitur (X) dan yang lainnya berisi label atau kelas yang ingin diprediksi (y). Ini adalah langkah dalam pemodelan prediktif, di mana fitur-fitur digunakan untuk melakukan prediksi atau klasifikasi terhadap label atau target tertentu.\n"
   ]
  },
  {
   "cell_type": "code",
   "execution_count": 168,
   "metadata": {},
   "outputs": [],
   "source": [
    "X = df.drop('Target',axis=1)\n",
    "y = df['Target']"
   ]
  },
  {
   "cell_type": "markdown",
   "metadata": {},
   "source": [
    "Selanjutnya, dataset dibagi menjadi data latih dan data uji menggunakan `train_test_split()`. Data latih (X_train, y_train) digunakan untuk melatih model, sedangkan data uji (X_test, y_test) digunakan untuk menguji kinerja model."
   ]
  },
  {
   "cell_type": "code",
   "execution_count": 169,
   "metadata": {},
   "outputs": [],
   "source": [
    "X_train, X_test, y_train, y_test = train_test_split(X, y, test_size=0.3, random_state=101)"
   ]
  },
  {
   "cell_type": "markdown",
   "metadata": {},
   "source": [
    "# Normalisasi"
   ]
  },
  {
   "cell_type": "markdown",
   "metadata": {},
   "source": [
    "Kode ini menggunakan `MinMaxScaler` dari pustaka `sklearn.preprocessing` untuk melakukan penskalaan fitur.\n",
    "\n",
    "1. `MinMaxScaler` adalah alat dari scikit-learn yang digunakan untuk mereskalakan atau menormalkan fitur ke dalam rentang tertentu, biasanya antara 0 dan 1. \n",
    "2. `scaler = MinMaxScaler()` membuat sebuah instance dari `MinMaxScaler`.\n",
    "\n",
    "Tujuan dari penggunaan `MinMaxScaler` adalah untuk memastikan bahwa semua fitur memiliki skala yang sama, yang dapat meningkatkan kinerja dan kecepatan algoritma pembelajaran mesin. Penskalaan ini sangat penting terutama ketika fitur memiliki rentang nilai yang sangat berbeda, karena banyak algoritma sensitif terhadap skala data.\n"
   ]
  },
  {
   "cell_type": "code",
   "execution_count": 186,
   "metadata": {},
   "outputs": [],
   "source": [
    "from sklearn.preprocessing import MinMaxScaler\n",
    "scaler = MinMaxScaler()"
   ]
  },
  {
   "cell_type": "markdown",
   "metadata": {},
   "source": [
    "Kode ini menggunakan objek `scaler` yang merupakan instance dari `StandardScaler` untuk menormalisasi data fitur:\n",
    "\n",
    "1. `X_train = scaler.fit_transform(X_train)`:\n",
    "   - `fit_transform` menghitung rata-rata dan standar deviasi dari `X_train` dan kemudian menerapkan skala standar (standarisasi) pada `X_train`.\n",
    "   - Standarisasi ini mengubah data sehingga memiliki mean 0 dan varians 1, yang sering kali meningkatkan kinerja algoritma pembelajaran mesin.\n",
    "\n",
    "2. `X_test = scaler.transform(X_test)`:\n",
    "   - `transform` hanya menerapkan transformasi yang sudah dihitung pada `X_train` (dari langkah `fit_transform`) ke data `X_test`.\n",
    "   - Ini memastikan bahwa `X_test` distandarisasi dengan cara yang sama seperti `X_train`, menggunakan rata-rata dan standar deviasi yang sama.\n",
    "\n",
    "Tujuannya adalah untuk memastikan bahwa data latih (`X_train`) dan data uji (`X_test`) berada pada skala yang sama.\n"
   ]
  },
  {
   "cell_type": "code",
   "execution_count": 172,
   "metadata": {},
   "outputs": [],
   "source": [
    "X_train = scaler.fit_transform(X_train)\n",
    "X_test = scaler.transform(X_test)"
   ]
  },
  {
   "cell_type": "markdown",
   "metadata": {},
   "source": [
    "## KNN"
   ]
  },
  {
   "cell_type": "markdown",
   "metadata": {},
   "source": [
    "Kode ini menggunakan algoritma K-Nearest Neighbors (KNN) untuk membangun model klasifikasi dengan pustaka `scikit-learn`. \n",
    "\n",
    "1. `KNeighborsClassifier` diimpor dari `sklearn.neighbors`.\n",
    "2. `knn = KNeighborsClassifier(n_neighbors=1)` membuat instance model KNN dengan jumlah tetangga terdekat (`n_neighbors`) ditetapkan ke 1.\n",
    "3. `knn.fit(X_train, y_train)` melatih model KNN menggunakan data latih (`X_train`) dan label (`y_train`).\n",
    "\n",
    "Tujuannya adalah untuk membuat model klasifikasi yang dapat memprediksi label kelas untuk data baru berdasarkan data tetangga terdekat. Dalam hal ini, model akan melihat satu tetangga terdekat untuk membuat prediksi.\n"
   ]
  },
  {
   "cell_type": "code",
   "execution_count": 173,
   "metadata": {},
   "outputs": [
    {
     "data": {
      "text/html": [
       "<style>#sk-container-id-4 {\n",
       "  /* Definition of color scheme common for light and dark mode */\n",
       "  --sklearn-color-text: black;\n",
       "  --sklearn-color-line: gray;\n",
       "  /* Definition of color scheme for unfitted estimators */\n",
       "  --sklearn-color-unfitted-level-0: #fff5e6;\n",
       "  --sklearn-color-unfitted-level-1: #f6e4d2;\n",
       "  --sklearn-color-unfitted-level-2: #ffe0b3;\n",
       "  --sklearn-color-unfitted-level-3: chocolate;\n",
       "  /* Definition of color scheme for fitted estimators */\n",
       "  --sklearn-color-fitted-level-0: #f0f8ff;\n",
       "  --sklearn-color-fitted-level-1: #d4ebff;\n",
       "  --sklearn-color-fitted-level-2: #b3dbfd;\n",
       "  --sklearn-color-fitted-level-3: cornflowerblue;\n",
       "\n",
       "  /* Specific color for light theme */\n",
       "  --sklearn-color-text-on-default-background: var(--sg-text-color, var(--theme-code-foreground, var(--jp-content-font-color1, black)));\n",
       "  --sklearn-color-background: var(--sg-background-color, var(--theme-background, var(--jp-layout-color0, white)));\n",
       "  --sklearn-color-border-box: var(--sg-text-color, var(--theme-code-foreground, var(--jp-content-font-color1, black)));\n",
       "  --sklearn-color-icon: #696969;\n",
       "\n",
       "  @media (prefers-color-scheme: dark) {\n",
       "    /* Redefinition of color scheme for dark theme */\n",
       "    --sklearn-color-text-on-default-background: var(--sg-text-color, var(--theme-code-foreground, var(--jp-content-font-color1, white)));\n",
       "    --sklearn-color-background: var(--sg-background-color, var(--theme-background, var(--jp-layout-color0, #111)));\n",
       "    --sklearn-color-border-box: var(--sg-text-color, var(--theme-code-foreground, var(--jp-content-font-color1, white)));\n",
       "    --sklearn-color-icon: #878787;\n",
       "  }\n",
       "}\n",
       "\n",
       "#sk-container-id-4 {\n",
       "  color: var(--sklearn-color-text);\n",
       "}\n",
       "\n",
       "#sk-container-id-4 pre {\n",
       "  padding: 0;\n",
       "}\n",
       "\n",
       "#sk-container-id-4 input.sk-hidden--visually {\n",
       "  border: 0;\n",
       "  clip: rect(1px 1px 1px 1px);\n",
       "  clip: rect(1px, 1px, 1px, 1px);\n",
       "  height: 1px;\n",
       "  margin: -1px;\n",
       "  overflow: hidden;\n",
       "  padding: 0;\n",
       "  position: absolute;\n",
       "  width: 1px;\n",
       "}\n",
       "\n",
       "#sk-container-id-4 div.sk-dashed-wrapped {\n",
       "  border: 1px dashed var(--sklearn-color-line);\n",
       "  margin: 0 0.4em 0.5em 0.4em;\n",
       "  box-sizing: border-box;\n",
       "  padding-bottom: 0.4em;\n",
       "  background-color: var(--sklearn-color-background);\n",
       "}\n",
       "\n",
       "#sk-container-id-4 div.sk-container {\n",
       "  /* jupyter's `normalize.less` sets `[hidden] { display: none; }`\n",
       "     but bootstrap.min.css set `[hidden] { display: none !important; }`\n",
       "     so we also need the `!important` here to be able to override the\n",
       "     default hidden behavior on the sphinx rendered scikit-learn.org.\n",
       "     See: https://github.com/scikit-learn/scikit-learn/issues/21755 */\n",
       "  display: inline-block !important;\n",
       "  position: relative;\n",
       "}\n",
       "\n",
       "#sk-container-id-4 div.sk-text-repr-fallback {\n",
       "  display: none;\n",
       "}\n",
       "\n",
       "div.sk-parallel-item,\n",
       "div.sk-serial,\n",
       "div.sk-item {\n",
       "  /* draw centered vertical line to link estimators */\n",
       "  background-image: linear-gradient(var(--sklearn-color-text-on-default-background), var(--sklearn-color-text-on-default-background));\n",
       "  background-size: 2px 100%;\n",
       "  background-repeat: no-repeat;\n",
       "  background-position: center center;\n",
       "}\n",
       "\n",
       "/* Parallel-specific style estimator block */\n",
       "\n",
       "#sk-container-id-4 div.sk-parallel-item::after {\n",
       "  content: \"\";\n",
       "  width: 100%;\n",
       "  border-bottom: 2px solid var(--sklearn-color-text-on-default-background);\n",
       "  flex-grow: 1;\n",
       "}\n",
       "\n",
       "#sk-container-id-4 div.sk-parallel {\n",
       "  display: flex;\n",
       "  align-items: stretch;\n",
       "  justify-content: center;\n",
       "  background-color: var(--sklearn-color-background);\n",
       "  position: relative;\n",
       "}\n",
       "\n",
       "#sk-container-id-4 div.sk-parallel-item {\n",
       "  display: flex;\n",
       "  flex-direction: column;\n",
       "}\n",
       "\n",
       "#sk-container-id-4 div.sk-parallel-item:first-child::after {\n",
       "  align-self: flex-end;\n",
       "  width: 50%;\n",
       "}\n",
       "\n",
       "#sk-container-id-4 div.sk-parallel-item:last-child::after {\n",
       "  align-self: flex-start;\n",
       "  width: 50%;\n",
       "}\n",
       "\n",
       "#sk-container-id-4 div.sk-parallel-item:only-child::after {\n",
       "  width: 0;\n",
       "}\n",
       "\n",
       "/* Serial-specific style estimator block */\n",
       "\n",
       "#sk-container-id-4 div.sk-serial {\n",
       "  display: flex;\n",
       "  flex-direction: column;\n",
       "  align-items: center;\n",
       "  background-color: var(--sklearn-color-background);\n",
       "  padding-right: 1em;\n",
       "  padding-left: 1em;\n",
       "}\n",
       "\n",
       "\n",
       "/* Toggleable style: style used for estimator/Pipeline/ColumnTransformer box that is\n",
       "clickable and can be expanded/collapsed.\n",
       "- Pipeline and ColumnTransformer use this feature and define the default style\n",
       "- Estimators will overwrite some part of the style using the `sk-estimator` class\n",
       "*/\n",
       "\n",
       "/* Pipeline and ColumnTransformer style (default) */\n",
       "\n",
       "#sk-container-id-4 div.sk-toggleable {\n",
       "  /* Default theme specific background. It is overwritten whether we have a\n",
       "  specific estimator or a Pipeline/ColumnTransformer */\n",
       "  background-color: var(--sklearn-color-background);\n",
       "}\n",
       "\n",
       "/* Toggleable label */\n",
       "#sk-container-id-4 label.sk-toggleable__label {\n",
       "  cursor: pointer;\n",
       "  display: block;\n",
       "  width: 100%;\n",
       "  margin-bottom: 0;\n",
       "  padding: 0.5em;\n",
       "  box-sizing: border-box;\n",
       "  text-align: center;\n",
       "}\n",
       "\n",
       "#sk-container-id-4 label.sk-toggleable__label-arrow:before {\n",
       "  /* Arrow on the left of the label */\n",
       "  content: \"▸\";\n",
       "  float: left;\n",
       "  margin-right: 0.25em;\n",
       "  color: var(--sklearn-color-icon);\n",
       "}\n",
       "\n",
       "#sk-container-id-4 label.sk-toggleable__label-arrow:hover:before {\n",
       "  color: var(--sklearn-color-text);\n",
       "}\n",
       "\n",
       "/* Toggleable content - dropdown */\n",
       "\n",
       "#sk-container-id-4 div.sk-toggleable__content {\n",
       "  max-height: 0;\n",
       "  max-width: 0;\n",
       "  overflow: hidden;\n",
       "  text-align: left;\n",
       "  /* unfitted */\n",
       "  background-color: var(--sklearn-color-unfitted-level-0);\n",
       "}\n",
       "\n",
       "#sk-container-id-4 div.sk-toggleable__content.fitted {\n",
       "  /* fitted */\n",
       "  background-color: var(--sklearn-color-fitted-level-0);\n",
       "}\n",
       "\n",
       "#sk-container-id-4 div.sk-toggleable__content pre {\n",
       "  margin: 0.2em;\n",
       "  border-radius: 0.25em;\n",
       "  color: var(--sklearn-color-text);\n",
       "  /* unfitted */\n",
       "  background-color: var(--sklearn-color-unfitted-level-0);\n",
       "}\n",
       "\n",
       "#sk-container-id-4 div.sk-toggleable__content.fitted pre {\n",
       "  /* unfitted */\n",
       "  background-color: var(--sklearn-color-fitted-level-0);\n",
       "}\n",
       "\n",
       "#sk-container-id-4 input.sk-toggleable__control:checked~div.sk-toggleable__content {\n",
       "  /* Expand drop-down */\n",
       "  max-height: 200px;\n",
       "  max-width: 100%;\n",
       "  overflow: auto;\n",
       "}\n",
       "\n",
       "#sk-container-id-4 input.sk-toggleable__control:checked~label.sk-toggleable__label-arrow:before {\n",
       "  content: \"▾\";\n",
       "}\n",
       "\n",
       "/* Pipeline/ColumnTransformer-specific style */\n",
       "\n",
       "#sk-container-id-4 div.sk-label input.sk-toggleable__control:checked~label.sk-toggleable__label {\n",
       "  color: var(--sklearn-color-text);\n",
       "  background-color: var(--sklearn-color-unfitted-level-2);\n",
       "}\n",
       "\n",
       "#sk-container-id-4 div.sk-label.fitted input.sk-toggleable__control:checked~label.sk-toggleable__label {\n",
       "  background-color: var(--sklearn-color-fitted-level-2);\n",
       "}\n",
       "\n",
       "/* Estimator-specific style */\n",
       "\n",
       "/* Colorize estimator box */\n",
       "#sk-container-id-4 div.sk-estimator input.sk-toggleable__control:checked~label.sk-toggleable__label {\n",
       "  /* unfitted */\n",
       "  background-color: var(--sklearn-color-unfitted-level-2);\n",
       "}\n",
       "\n",
       "#sk-container-id-4 div.sk-estimator.fitted input.sk-toggleable__control:checked~label.sk-toggleable__label {\n",
       "  /* fitted */\n",
       "  background-color: var(--sklearn-color-fitted-level-2);\n",
       "}\n",
       "\n",
       "#sk-container-id-4 div.sk-label label.sk-toggleable__label,\n",
       "#sk-container-id-4 div.sk-label label {\n",
       "  /* The background is the default theme color */\n",
       "  color: var(--sklearn-color-text-on-default-background);\n",
       "}\n",
       "\n",
       "/* On hover, darken the color of the background */\n",
       "#sk-container-id-4 div.sk-label:hover label.sk-toggleable__label {\n",
       "  color: var(--sklearn-color-text);\n",
       "  background-color: var(--sklearn-color-unfitted-level-2);\n",
       "}\n",
       "\n",
       "/* Label box, darken color on hover, fitted */\n",
       "#sk-container-id-4 div.sk-label.fitted:hover label.sk-toggleable__label.fitted {\n",
       "  color: var(--sklearn-color-text);\n",
       "  background-color: var(--sklearn-color-fitted-level-2);\n",
       "}\n",
       "\n",
       "/* Estimator label */\n",
       "\n",
       "#sk-container-id-4 div.sk-label label {\n",
       "  font-family: monospace;\n",
       "  font-weight: bold;\n",
       "  display: inline-block;\n",
       "  line-height: 1.2em;\n",
       "}\n",
       "\n",
       "#sk-container-id-4 div.sk-label-container {\n",
       "  text-align: center;\n",
       "}\n",
       "\n",
       "/* Estimator-specific */\n",
       "#sk-container-id-4 div.sk-estimator {\n",
       "  font-family: monospace;\n",
       "  border: 1px dotted var(--sklearn-color-border-box);\n",
       "  border-radius: 0.25em;\n",
       "  box-sizing: border-box;\n",
       "  margin-bottom: 0.5em;\n",
       "  /* unfitted */\n",
       "  background-color: var(--sklearn-color-unfitted-level-0);\n",
       "}\n",
       "\n",
       "#sk-container-id-4 div.sk-estimator.fitted {\n",
       "  /* fitted */\n",
       "  background-color: var(--sklearn-color-fitted-level-0);\n",
       "}\n",
       "\n",
       "/* on hover */\n",
       "#sk-container-id-4 div.sk-estimator:hover {\n",
       "  /* unfitted */\n",
       "  background-color: var(--sklearn-color-unfitted-level-2);\n",
       "}\n",
       "\n",
       "#sk-container-id-4 div.sk-estimator.fitted:hover {\n",
       "  /* fitted */\n",
       "  background-color: var(--sklearn-color-fitted-level-2);\n",
       "}\n",
       "\n",
       "/* Specification for estimator info (e.g. \"i\" and \"?\") */\n",
       "\n",
       "/* Common style for \"i\" and \"?\" */\n",
       "\n",
       ".sk-estimator-doc-link,\n",
       "a:link.sk-estimator-doc-link,\n",
       "a:visited.sk-estimator-doc-link {\n",
       "  float: right;\n",
       "  font-size: smaller;\n",
       "  line-height: 1em;\n",
       "  font-family: monospace;\n",
       "  background-color: var(--sklearn-color-background);\n",
       "  border-radius: 1em;\n",
       "  height: 1em;\n",
       "  width: 1em;\n",
       "  text-decoration: none !important;\n",
       "  margin-left: 1ex;\n",
       "  /* unfitted */\n",
       "  border: var(--sklearn-color-unfitted-level-1) 1pt solid;\n",
       "  color: var(--sklearn-color-unfitted-level-1);\n",
       "}\n",
       "\n",
       ".sk-estimator-doc-link.fitted,\n",
       "a:link.sk-estimator-doc-link.fitted,\n",
       "a:visited.sk-estimator-doc-link.fitted {\n",
       "  /* fitted */\n",
       "  border: var(--sklearn-color-fitted-level-1) 1pt solid;\n",
       "  color: var(--sklearn-color-fitted-level-1);\n",
       "}\n",
       "\n",
       "/* On hover */\n",
       "div.sk-estimator:hover .sk-estimator-doc-link:hover,\n",
       ".sk-estimator-doc-link:hover,\n",
       "div.sk-label-container:hover .sk-estimator-doc-link:hover,\n",
       ".sk-estimator-doc-link:hover {\n",
       "  /* unfitted */\n",
       "  background-color: var(--sklearn-color-unfitted-level-3);\n",
       "  color: var(--sklearn-color-background);\n",
       "  text-decoration: none;\n",
       "}\n",
       "\n",
       "div.sk-estimator.fitted:hover .sk-estimator-doc-link.fitted:hover,\n",
       ".sk-estimator-doc-link.fitted:hover,\n",
       "div.sk-label-container:hover .sk-estimator-doc-link.fitted:hover,\n",
       ".sk-estimator-doc-link.fitted:hover {\n",
       "  /* fitted */\n",
       "  background-color: var(--sklearn-color-fitted-level-3);\n",
       "  color: var(--sklearn-color-background);\n",
       "  text-decoration: none;\n",
       "}\n",
       "\n",
       "/* Span, style for the box shown on hovering the info icon */\n",
       ".sk-estimator-doc-link span {\n",
       "  display: none;\n",
       "  z-index: 9999;\n",
       "  position: relative;\n",
       "  font-weight: normal;\n",
       "  right: .2ex;\n",
       "  padding: .5ex;\n",
       "  margin: .5ex;\n",
       "  width: min-content;\n",
       "  min-width: 20ex;\n",
       "  max-width: 50ex;\n",
       "  color: var(--sklearn-color-text);\n",
       "  box-shadow: 2pt 2pt 4pt #999;\n",
       "  /* unfitted */\n",
       "  background: var(--sklearn-color-unfitted-level-0);\n",
       "  border: .5pt solid var(--sklearn-color-unfitted-level-3);\n",
       "}\n",
       "\n",
       ".sk-estimator-doc-link.fitted span {\n",
       "  /* fitted */\n",
       "  background: var(--sklearn-color-fitted-level-0);\n",
       "  border: var(--sklearn-color-fitted-level-3);\n",
       "}\n",
       "\n",
       ".sk-estimator-doc-link:hover span {\n",
       "  display: block;\n",
       "}\n",
       "\n",
       "/* \"?\"-specific style due to the `<a>` HTML tag */\n",
       "\n",
       "#sk-container-id-4 a.estimator_doc_link {\n",
       "  float: right;\n",
       "  font-size: 1rem;\n",
       "  line-height: 1em;\n",
       "  font-family: monospace;\n",
       "  background-color: var(--sklearn-color-background);\n",
       "  border-radius: 1rem;\n",
       "  height: 1rem;\n",
       "  width: 1rem;\n",
       "  text-decoration: none;\n",
       "  /* unfitted */\n",
       "  color: var(--sklearn-color-unfitted-level-1);\n",
       "  border: var(--sklearn-color-unfitted-level-1) 1pt solid;\n",
       "}\n",
       "\n",
       "#sk-container-id-4 a.estimator_doc_link.fitted {\n",
       "  /* fitted */\n",
       "  border: var(--sklearn-color-fitted-level-1) 1pt solid;\n",
       "  color: var(--sklearn-color-fitted-level-1);\n",
       "}\n",
       "\n",
       "/* On hover */\n",
       "#sk-container-id-4 a.estimator_doc_link:hover {\n",
       "  /* unfitted */\n",
       "  background-color: var(--sklearn-color-unfitted-level-3);\n",
       "  color: var(--sklearn-color-background);\n",
       "  text-decoration: none;\n",
       "}\n",
       "\n",
       "#sk-container-id-4 a.estimator_doc_link.fitted:hover {\n",
       "  /* fitted */\n",
       "  background-color: var(--sklearn-color-fitted-level-3);\n",
       "}\n",
       "</style><div id=\"sk-container-id-4\" class=\"sk-top-container\"><div class=\"sk-text-repr-fallback\"><pre>KNeighborsClassifier(n_neighbors=1)</pre><b>In a Jupyter environment, please rerun this cell to show the HTML representation or trust the notebook. <br />On GitHub, the HTML representation is unable to render, please try loading this page with nbviewer.org.</b></div><div class=\"sk-container\" hidden><div class=\"sk-item\"><div class=\"sk-estimator fitted sk-toggleable\"><input class=\"sk-toggleable__control sk-hidden--visually\" id=\"sk-estimator-id-4\" type=\"checkbox\" checked><label for=\"sk-estimator-id-4\" class=\"sk-toggleable__label fitted sk-toggleable__label-arrow fitted\">&nbsp;&nbsp;KNeighborsClassifier<a class=\"sk-estimator-doc-link fitted\" rel=\"noreferrer\" target=\"_blank\" href=\"https://scikit-learn.org/1.4/modules/generated/sklearn.neighbors.KNeighborsClassifier.html\">?<span>Documentation for KNeighborsClassifier</span></a><span class=\"sk-estimator-doc-link fitted\">i<span>Fitted</span></span></label><div class=\"sk-toggleable__content fitted\"><pre>KNeighborsClassifier(n_neighbors=1)</pre></div> </div></div></div></div>"
      ],
      "text/plain": [
       "KNeighborsClassifier(n_neighbors=1)"
      ]
     },
     "execution_count": 173,
     "metadata": {},
     "output_type": "execute_result"
    }
   ],
   "source": [
    "from sklearn.neighbors import KNeighborsClassifier\n",
    "knn = KNeighborsClassifier(n_neighbors=1)\n",
    "knn.fit(X_train,y_train)"
   ]
  },
  {
   "cell_type": "code",
   "execution_count": 174,
   "metadata": {},
   "outputs": [],
   "source": [
    "predictions = knn.predict(X_test)"
   ]
  },
  {
   "cell_type": "code",
   "execution_count": 175,
   "metadata": {},
   "outputs": [
    {
     "name": "stdout",
     "output_type": "stream",
     "text": [
      "Accuracy_KNN:  0.8053259871441689\n",
      "F1 score_KNN:  0.8053259871441689\n",
      "Recall_KNN:  0.8053259871441689\n",
      "Precision_KNN:  0.8053259871441689\n",
      "\n",
      "\n",
      "Confusion Matrix_KNN:\n",
      "[[296 125]\n",
      " [ 87 581]]\n",
      "\n",
      "\n",
      "Laporan Klasifikasi:\n",
      "              precision    recall  f1-score   support\n",
      "\n",
      "           0       0.77      0.70      0.74       421\n",
      "           1       0.82      0.87      0.85       668\n",
      "\n",
      "    accuracy                           0.81      1089\n",
      "   macro avg       0.80      0.79      0.79      1089\n",
      "weighted avg       0.80      0.81      0.80      1089\n",
      "\n"
     ]
    },
    {
     "name": "stderr",
     "output_type": "stream",
     "text": [
      "c:\\Users\\Lenovo\\AppData\\Local\\Programs\\Python\\Python310\\lib\\site-packages\\sklearn\\metrics\\_classification.py:1561: UserWarning: Note that pos_label (set to 'positive') is ignored when average != 'binary' (got 'micro'). You may use labels=[pos_label] to specify a single positive class.\n",
      "  warnings.warn(\n",
      "c:\\Users\\Lenovo\\AppData\\Local\\Programs\\Python\\Python310\\lib\\site-packages\\sklearn\\metrics\\_classification.py:1561: UserWarning: Note that pos_label (set to 'positive') is ignored when average != 'binary' (got 'micro'). You may use labels=[pos_label] to specify a single positive class.\n",
      "  warnings.warn(\n",
      "c:\\Users\\Lenovo\\AppData\\Local\\Programs\\Python\\Python310\\lib\\site-packages\\sklearn\\metrics\\_classification.py:1561: UserWarning: Note that pos_label (set to 'positive') is ignored when average != 'binary' (got 'micro'). You may use labels=[pos_label] to specify a single positive class.\n",
      "  warnings.warn(\n"
     ]
    }
   ],
   "source": [
    "print(\"Accuracy_KNN: \", accuracy_score(y_test,predictions))\n",
    "print(\"F1 score_KNN: \", f1_score(y_test,predictions,pos_label='positive',average='micro'))\n",
    "print(\"Recall_KNN: \", recall_score(y_test,predictions,pos_label='positive',average='micro'))\n",
    "print(\"Precision_KNN: \", precision_score(y_test,predictions,pos_label='positive',average='micro'))\n",
    "print(\"\\n\")\n",
    "print('Confusion Matrix_KNN:')\n",
    "print(confusion_matrix(y_test,predictions))\n",
    "print(\"\\n\")\n",
    "print('Laporan Klasifikasi:')\n",
    "print(classification_report(y_test,predictions))\n"
   ]
  },
  {
   "cell_type": "code",
   "execution_count": 176,
   "metadata": {},
   "outputs": [],
   "source": [
    "error_rate = []\n",
    "\n",
    "for i in range(1,40):\n",
    "    knn = KNeighborsClassifier(n_neighbors=i)\n",
    "    knn.fit(X_train,y_train)\n",
    "    pred_i = knn.predict(X_test)\n",
    "    error_rate.append(np.mean(pred_i != y_test))"
   ]
  },
  {
   "cell_type": "code",
   "execution_count": 177,
   "metadata": {},
   "outputs": [
    {
     "data": {
      "text/plain": [
       "Text(0, 0.5, 'Accuracy')"
      ]
     },
     "execution_count": 177,
     "metadata": {},
     "output_type": "execute_result"
    },
    {
     "data": {
      "image/png": "[encoded data removed]",
      "text/plain": [
       "<Figure size 1200x600 with 1 Axes>"
      ]
     },
     "metadata": {},
     "output_type": "display_data"
    }
   ],
   "source": [
    "plt.figure(figsize=(12, 6))\n",
    "plt.plot(range(1, 40), error_rate, color='red', \n",
    "         linestyle='dashed', marker='o',\n",
    "         markerfacecolor='blue', markersize=10)\n",
    "\n",
    "plt.title('K Value accuracy')\n",
    "plt.xlabel('K Value')\n",
    "plt.ylabel('Accuracy')"
   ]
  },
  {
   "cell_type": "markdown",
   "metadata": {},
   "source": [
    "#### Analisis dari KNN\n",
    "1. **Accuracy**: Model KNN mencapai akurasi sebesar 80.53%, yang menunjukkan bahwa sekitar 80.53% dari prediksi model ini benar.\n",
    "2. **Precision, Recall, dan F1-Score**: Nilai precision, recall, dan F1-score hampir sama (sekitar 0.8053), menunjukkan keseimbangan antara false positives dan false negatives. \n",
    "   - Precision untuk kelas 1 (0.82) lebih tinggi daripada kelas 0 (0.77), menunjukkan bahwa model lebih baik dalam memprediksi kelas 1.\n",
    "   - Recall untuk kelas 1 (0.87) juga lebih tinggi daripada kelas 0 (0.70), menunjukkan bahwa model lebih efektif dalam menemukan semua instance dari kelas 1.\n",
    "   - F1-score untuk kelas 1 (0.85) lebih tinggi daripada kelas 0 (0.74), menunjukkan bahwa keseimbangan antara precision dan recall untuk kelas 1 lebih baik.\n",
    "3. **Confusion Matrix**:\n",
    "   - **True Positives (TP)**: 581 (Kelas 1 diprediksi dengan benar).\n",
    "   - **True Negatives (TN)**: 296 (Kelas 0 diprediksi dengan benar).\n",
    "   - **False Positives (FP)**: 125 (Kelas 0 salah diprediksi sebagai kelas 1).\n",
    "   - **False Negatives (FN)**: 87 (Kelas 1 salah diprediksi sebagai kelas 0).\n",
    "\n",
    "#### Kesimpulan\n",
    "Model KNN dengan 1 tetangga terdekat menunjukkan performa yang baik dengan akurasi 80.53%. Model ini lebih efektif dalam mengidentifikasi kelas 1 dibandingkan kelas 0, yang ditunjukkan oleh nilai precision, recall, dan F1-score yang lebih tinggi untuk kelas 1. Meskipun ada beberapa kesalahan klasifikasi (false positives dan false negatives), secara keseluruhan model ini memberikan hasil yang memuaskan dan dapat digunakan untuk prediksi lebih lanjut dengan potensi perbaikan atau penyesuaian lebih lanjut."
   ]
  },
  {
   "cell_type": "markdown",
   "metadata": {},
   "source": [
    "## Naive Bayes"
   ]
  },
  {
   "cell_type": "code",
   "execution_count": 178,
   "metadata": {},
   "outputs": [],
   "source": [
    "from sklearn.naive_bayes import GaussianNB, MultinomialNB, BernoulliNB"
   ]
  },
  {
   "cell_type": "code",
   "execution_count": 179,
   "metadata": {},
   "outputs": [],
   "source": [
    "# Fungsi untuk melatih model, memprediksi, dan menghitung metrik\n",
    "def evaluate_model(model, model_name):\n",
    "    model.fit(X_train, y_train)\n",
    "    predictions = model.predict(X_test)\n",
    "    \n",
    "    accuracy = accuracy_score(y_test, predictions)\n",
    "    f1 = f1_score(y_test, predictions, average='micro')\n",
    "    recall = recall_score(y_test, predictions, average='micro')\n",
    "    precision = precision_score(y_test, predictions, average='micro')\n",
    "    \n",
    "    print(f\"Results Untuk {model_name}:\")\n",
    "    print(f\"Akurasi {model_name} : {accuracy}\")\n",
    "    print(f\"F1 Score {model_name} : {f1}\")\n",
    "    print(f\"Recall {model_name} : {recall}\")\n",
    "    print(f\"Precision {model_name} : {precision}\")\n",
    "    print(\"\\nLaporan Klasifikasi  :\\n\", classification_report(y_test, predictions))\n",
    "    print(\"Confusion Matrix  :\\n\", confusion_matrix(y_test, predictions))\n",
    "    print(\"\\n\")\n",
    "    \n",
    "    return accuracy"
   ]
  },
  {
   "cell_type": "code",
   "execution_count": 180,
   "metadata": {},
   "outputs": [
    {
     "name": "stdout",
     "output_type": "stream",
     "text": [
      "Results Untuk GaussianNB:\n",
      "Akurasi GaussianNB : 0.8273645546372819\n",
      "F1 Score GaussianNB : 0.8273645546372819\n",
      "Recall GaussianNB : 0.8273645546372819\n",
      "Precision GaussianNB : 0.8273645546372819\n",
      "\n",
      "Laporan Klasifikasi  :\n",
      "               precision    recall  f1-score   support\n",
      "\n",
      "           0       0.81      0.73      0.77       421\n",
      "           1       0.84      0.89      0.86       668\n",
      "\n",
      "    accuracy                           0.83      1089\n",
      "   macro avg       0.82      0.81      0.81      1089\n",
      "weighted avg       0.83      0.83      0.83      1089\n",
      "\n",
      "Confusion Matrix  :\n",
      " [[306 115]\n",
      " [ 73 595]]\n",
      "\n",
      "\n"
     ]
    }
   ],
   "source": [
    "# Gaussian Naive Bayes\n",
    "gnb = GaussianNB()\n",
    "accuracy_gnb = evaluate_model(gnb, \"GaussianNB\")"
   ]
  },
  {
   "cell_type": "markdown",
   "metadata": {},
   "source": [
    "## Hasil Analisis Gaussian Naive Bayes\n",
    "\n",
    "Model Gaussian Naive Bayes telah dievaluasi dan memberikan hasil sebagai berikut:\n",
    "\n",
    "- **Akurasi**: 0.8273645546372819\n",
    "- **F1 Score**: 0.8273645546372819\n",
    "- **Recall**: 0.8273645546372819\n",
    "- **Precision**: 0.8273645546372819\n",
    "\n",
    "### Laporan Klasifikasi:\n",
    "\n",
    "| Class | Precision | Recall | F1-Score | Support |\n",
    "|-------|-----------|--------|----------|---------|\n",
    "| 0     | 0.81      | 0.73   | 0.77     | 421     |\n",
    "| 1     | 0.84      | 0.89   | 0.86     | 668     |\n",
    "\n",
    "- **Accuracy**: 0.83\n",
    "- **Macro Avg**:\n",
    "  - Precision: 0.82\n",
    "  - Recall: 0.81\n",
    "  - F1-Score: 0.81\n",
    "- **Weighted Avg**:\n",
    "  - Precision: 0.83\n",
    "  - Recall: 0.83\n",
    "  - F1-Score: 0.83\n",
    "\n",
    "### Confusion Matrix:\n",
    "\n",
    "| Actual \\ Predicted | 0   | 1   |\n",
    "|--------------------|-----|-----|\n",
    "| 0                  | 306 | 115 |\n",
    "| 1                  | 73  | 595 |\n",
    "\n",
    "### Analisis dan Kesimpulan:\n",
    "\n",
    "1. **Akurasi**: Model Gaussian Naive Bayes memiliki akurasi sekitar 82.7%, yang menunjukkan bahwa model ini cukup baik dalam mengklasifikasikan data dengan benar.\n",
    "2. **Precision, Recall, dan F1-Score**:\n",
    "   - Untuk kelas 0:\n",
    "     - Precision: 0.81 menunjukkan bahwa 81% dari prediksi kelas 0 benar.\n",
    "     - Recall: 0.73 menunjukkan bahwa model ini mengidentifikasi 73% dari semua kasus kelas 0.\n",
    "     - F1-Score: 0.77 menunjukkan keseimbangan antara precision dan recall.\n",
    "   - Untuk kelas 1:\n",
    "     - Precision: 0.84 menunjukkan bahwa 84% dari prediksi kelas 1 benar.\n",
    "     - Recall: 0.89 menunjukkan bahwa model ini mengidentifikasi 89% dari semua kasus kelas 1.\n",
    "     - F1-Score: 0.86 menunjukkan keseimbangan antara precision dan recall.\n",
    "3. **Confusion Matrix**:\n",
    "   - Model ini lebih sering salah mengklasifikasikan kelas 0 sebagai kelas 1 (115 kesalahan) dibandingkan salah mengklasifikasikan kelas 1 sebagai kelas 0 (73 kesalahan).\n",
    "   - Model ini cukup baik dalam mengklasifikasikan kelas 1, dengan 595 prediksi benar dari 668 kasus.\n",
    "\n",
    "### Kesimpulan:\n",
    "\n",
    "Model Gaussian Naive Bayes menunjukkan performa yang cukup baik dengan akurasi keseluruhan 82.7%. Meskipun performa untuk kelas 0 sedikit lebih rendah dibandingkan kelas 1, model ini masih mampu memberikan prediksi yang akurat secara umum. Model ini dapat digunakan untuk prediksi lebih lanjut dengan mempertimbangkan bahwa kesalahan lebih mungkin terjadi pada kelas 0 dibandingkan kelas 1.\n"
   ]
  },
  {
   "cell_type": "code",
   "execution_count": 181,
   "metadata": {},
   "outputs": [
    {
     "name": "stdout",
     "output_type": "stream",
     "text": [
      "Results Untuk MultinomialNB:\n",
      "Akurasi MultinomialNB : 0.7961432506887053\n",
      "F1 Score MultinomialNB : 0.7961432506887053\n",
      "Recall MultinomialNB : 0.7961432506887053\n",
      "Precision MultinomialNB : 0.7961432506887053\n",
      "\n",
      "Laporan Klasifikasi  :\n",
      "               precision    recall  f1-score   support\n",
      "\n",
      "           0       0.81      0.61      0.70       421\n",
      "           1       0.79      0.91      0.85       668\n",
      "\n",
      "    accuracy                           0.80      1089\n",
      "   macro avg       0.80      0.76      0.77      1089\n",
      "weighted avg       0.80      0.80      0.79      1089\n",
      "\n",
      "Confusion Matrix  :\n",
      " [[258 163]\n",
      " [ 59 609]]\n",
      "\n",
      "\n"
     ]
    }
   ],
   "source": [
    "# Multinomial Naive Bayes\n",
    "mnb = MultinomialNB()\n",
    "accuracy_mnb = evaluate_model(mnb, \"MultinomialNB\")"
   ]
  },
  {
   "cell_type": "markdown",
   "metadata": {},
   "source": [
    "## Analisis dan Kesimpulan Hasil Multinomial Naive Bayes\n",
    "\n",
    "### Hasil Evaluasi Model\n",
    "\n",
    "Model Multinomial Naive Bayes dievaluasi menggunakan metrik akurasi, precision, recall, dan F1 score. Berikut adalah hasil evaluasinya:\n",
    "\n",
    "- **Akurasi MultinomialNB**: 0.7961\n",
    "- **F1 Score MultinomialNB**: 0.7961\n",
    "- **Recall MultinomialNB**: 0.7961\n",
    "- **Precision MultinomialNB**: 0.7961\n",
    "\n",
    "### Laporan Klasifikasi\n",
    "\n",
    "Laporan klasifikasi memberikan rincian kinerja model untuk masing-masing kelas (0 dan 1):\n",
    "\n",
    "|               | Precision | Recall | F1-Score | Support |\n",
    "|---------------|-----------|--------|----------|---------|\n",
    "| Kelas 0       | 0.81      | 0.61   | 0.70     | 421     |\n",
    "| Kelas 1       | 0.79      | 0.91   | 0.85     | 668     |\n",
    "| **Accuracy**  |           |        | 0.80     | 1089    |\n",
    "| **Macro Avg** | 0.80      | 0.76   | 0.77     | 1089    |\n",
    "| **Weighted Avg** | 0.80  | 0.80   | 0.79     | 1089    |\n",
    "\n",
    "### Matriks Kebingungan (Confusion Matrix)\n",
    "\n",
    "Matriks kebingungan menunjukkan distribusi prediksi model:\n",
    "\n",
    "[[258 163]\n",
    "[ 59 609]]\n",
    "\n",
    "\n",
    "- **258**: True Negatives (TN) - Kelas 0 yang diprediksi benar.\n",
    "- **163**: False Positives (FP) - Kelas 0 yang diprediksi sebagai kelas 1.\n",
    "- **59**: False Negatives (FN) - Kelas 1 yang diprediksi sebagai kelas 0.\n",
    "- **609**: True Positives (TP) - Kelas 1 yang diprediksi benar.\n",
    "\n",
    "### Kesimpulan\n",
    "\n",
    "- Model Multinomial Naive Bayes menunjukkan akurasi keseluruhan yang cukup baik dengan nilai 0.80.\n",
    "- Precision dan recall untuk kelas 1 lebih tinggi dibandingkan dengan kelas 0, menunjukkan model lebih baik dalam mengidentifikasi kelas 1.\n",
    "- F1 score untuk kelas 1 juga lebih tinggi, yang berarti keseimbangan antara precision dan recall lebih baik untuk kelas 1.\n",
    "- Matriks kebingungan menunjukkan bahwa model lebih sering salah dalam mengidentifikasi kelas 0 sebagai kelas 1 daripada sebaliknya.\n",
    "\n",
    "Secara keseluruhan, model ini cocok untuk aplikasi di mana identifikasi kelas 1 (mungkin kelas positif dalam konteks tertentu) lebih kritis daripada kelas 0.\n"
   ]
  },
  {
   "cell_type": "code",
   "execution_count": 182,
   "metadata": {},
   "outputs": [
    {
     "name": "stdout",
     "output_type": "stream",
     "text": [
      "Results Untuk BernoulliNB:\n",
      "Akurasi BernoulliNB : 0.830119375573921\n",
      "F1 Score BernoulliNB : 0.830119375573921\n",
      "Recall BernoulliNB : 0.830119375573921\n",
      "Precision BernoulliNB : 0.830119375573921\n",
      "\n",
      "Laporan Klasifikasi  :\n",
      "               precision    recall  f1-score   support\n",
      "\n",
      "           0       0.89      0.64      0.74       421\n",
      "           1       0.81      0.95      0.87       668\n",
      "\n",
      "    accuracy                           0.83      1089\n",
      "   macro avg       0.85      0.79      0.81      1089\n",
      "weighted avg       0.84      0.83      0.82      1089\n",
      "\n",
      "Confusion Matrix  :\n",
      " [[269 152]\n",
      " [ 33 635]]\n",
      "\n",
      "\n"
     ]
    }
   ],
   "source": [
    "# Bernoulli Naive Bayes\n",
    "bnb = BernoulliNB()\n",
    "accuracy_bnb = evaluate_model(bnb, \"BernoulliNB\")"
   ]
  },
  {
   "cell_type": "markdown",
   "metadata": {},
   "source": [
    "# Hasil Analisis Bernoulli Naive Bayes\n",
    "\n",
    "Model Bernoulli Naive Bayes dievaluasi menggunakan metrik akurasi, F1 score, recall, dan precision. Berikut adalah hasil evaluasinya:\n",
    "\n",
    "- **Akurasi**: 0.8301\n",
    "- **F1 Score**: 0.8301\n",
    "- **Recall**: 0.8301\n",
    "- **Precision**: 0.8301\n",
    "\n",
    "Laporan klasifikasi menunjukkan performa model untuk masing-masing kelas (0 dan 1):\n",
    "\n",
    "|               | Precision | Recall | F1-score | Support |\n",
    "|---------------|-----------|--------|----------|---------|\n",
    "| **Class 0**   | 0.89      | 0.64   | 0.74     | 421     |\n",
    "| **Class 1**   | 0.81      | 0.95   | 0.87     | 668     |\n",
    "| **Accuracy**  |           |        | 0.83     | 1089    |\n",
    "| **Macro avg** | 0.85      | 0.79   | 0.81     | 1089    |\n",
    "| **Weighted avg** | 0.84  | 0.83   | 0.82     | 1089    |\n",
    "\n",
    "**Confusion Matrix**:\n",
    "[[269 152]\n",
    "[ 33 635]]\n",
    "\n",
    "\n",
    "## Analisis dan Kesimpulan\n",
    "\n",
    "1. **Akurasi**: Model memiliki akurasi sebesar 83.01%, yang menunjukkan bahwa model cukup baik dalam mengklasifikasikan data dengan benar secara keseluruhan.\n",
    "2. **Precision**: Precision untuk kelas 0 (0.89) lebih tinggi daripada kelas 1 (0.81), menunjukkan bahwa dari prediksi positif untuk kelas 0, sebagian besar adalah benar, sementara untuk kelas 1 sedikit lebih rendah.\n",
    "3. **Recall**: Recall untuk kelas 1 (0.95) jauh lebih tinggi dibandingkan dengan kelas 0 (0.64). Ini menunjukkan bahwa model sangat baik dalam mengidentifikasi semua sampel yang benar-benar positif untuk kelas 1, tetapi kurang baik untuk kelas 0.\n",
    "4. **F1-Score**: F1-score yang lebih tinggi untuk kelas 1 (0.87) dibandingkan dengan kelas 0 (0.74) menunjukkan bahwa model lebih seimbang dalam prediksi kelas 1 daripada kelas 0.\n",
    "\n",
    "### Kesimpulan\n",
    "\n",
    "Model Bernoulli Naive Bayes menunjukkan performa yang cukup baik dengan akurasi keseluruhan sebesar 83.01%. Model ini sangat efektif dalam mendeteksi kelas 1, namun performanya agak kurang dalam mendeteksi kelas 0. Hal ini terlihat dari recall yang rendah untuk kelas 0 dan confusion matrix yang menunjukkan cukup banyak sampel kelas 0 yang diklasifikasikan sebagai kelas 1 (152 dari 421).\n",
    "\n",
    "Untuk aplikasi yang memerlukan identifikasi kelas 1 yang akurat, model ini sangat berguna. Namun, jika identifikasi kelas 0 juga sangat penting, perlu dilakukan upaya lebih lanjut untuk meningkatkan performa model dalam mendeteksi kelas 0, seperti menyeimbangkan dataset atau menggunakan teknik peningkatan model lainnya.\n"
   ]
  },
  {
   "cell_type": "code",
   "execution_count": 183,
   "metadata": {},
   "outputs": [
    {
     "data": {
      "image/png": "[encoded data removed]",
      "text/plain": [
       "<Figure size 1000x600 with 1 Axes>"
      ]
     },
     "metadata": {},
     "output_type": "display_data"
    }
   ],
   "source": [
    "# Visualisasi hasil\n",
    "models = ['GaussianNB', 'MultinomialNB', 'BernoulliNB']\n",
    "accuracies = [accuracy_gnb, accuracy_mnb, accuracy_bnb]\n",
    "\n",
    "plt.figure(figsize=(10, 6))\n",
    "bars = plt.bar(models, accuracies, color=['blue', 'green', 'red'])\n",
    "plt.title('Akurasi dari Berbagai Kernel Naive Bayes')\n",
    "plt.xlabel('Kernel Naive Bayes')\n",
    "plt.ylabel('Akurasi')\n",
    "plt.ylim(0, 1)\n",
    "\n",
    "# Menambahkan angka akurasi di atas batang\n",
    "for bar, accuracy in zip(bars, accuracies):\n",
    "    plt.text(bar.get_x() + bar.get_width() / 2, bar.get_height() - 0.05, \n",
    "             f'{accuracy:.2f}', ha='center', va='bottom', color='white', fontweight='bold')\n",
    "\n",
    "plt.show()"
   ]
  },
  {
   "cell_type": "markdown",
   "metadata": {},
   "source": [
    "# Analisis dan Kesimpulan Akurasi Model Naive Bayes\n",
    "\n",
    "## Analisis\n",
    "\n",
    "1. **GaussianNB** dan **BernoulliNB** menunjukkan akurasi yang sama, yaitu 83%. Ini menunjukkan bahwa kedua model ini memiliki performa yang setara dalam hal akurasi pada dataset yang digunakan.\n",
    "2. **MultinomialNB** memiliki akurasi yang sedikit lebih rendah, yaitu 80%. Ini menunjukkan bahwa model ini sedikit kurang efektif dibandingkan dengan GaussianNB dan BernoulliNB pada dataset ini.\n",
    "\n",
    "## Kesimpulan\n",
    "\n",
    "Dari hasil visualisasi, dapat disimpulkan bahwa:\n",
    "\n",
    "1. **GaussianNB** dan **BernoulliNB** adalah pilihan yang lebih baik dibandingkan dengan **MultinomialNB** jika mempertimbangkan akurasi sebagai metrik utama.\n",
    "2. Performa akurasi yang sama antara GaussianNB dan BernoulliNB mengindikasikan bahwa keduanya sama-sama baik dalam menangani dataset ini, meskipun mereka menggunakan asumsi yang berbeda tentang distribusi data.\n",
    "3. Pemilihan model yang tepat juga dapat bisa dipertimbangkan berdasarkan karakteristik data spesifik yang dimiliki serta kebutuhan aplikasi yang akan dikembangkan.\n",
    "\n",
    "Dengan memahami hasil ini, kita dapat membuat keputusan yang lebih baik mengenai model Naive Bayes mana yang paling sesuai untuk digunakan dalam analisis data atau aplikasi tertentu.\n"
   ]
  }
 ],
 "metadata": {
  "kernelspec": {
   "display_name": "Python 3",
   "language": "python",
   "name": "python3"
  },
  "language_info": {
   "codemirror_mode": {
    "name": "ipython",
    "version": 3
   },
   "file_extension": ".py",
   "mimetype": "text/x-python",
   "name": "python",
   "nbconvert_exporter": "python",
   "pygments_lexer": "ipython3",
   "version": "3.10.9"
  }
 },
 "nbformat": 4,
 "nbformat_minor": 2
}
